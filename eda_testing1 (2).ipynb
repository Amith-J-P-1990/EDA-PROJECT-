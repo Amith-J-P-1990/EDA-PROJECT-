{
  "cells": [
    {
      "cell_type": "markdown",
      "metadata": {
        "id": "g-ipAkixbrAT"
      },
      "source": [
        "# Exploratory Data Analysis on Google Play Store Apps \n",
        "\n",
        "![Play Store](https://i.imgur.com/5TFmHcV.png)"
      ]
    },
    {
      "cell_type": "markdown",
      "metadata": {
        "id": "Mb-2b9QK0hB6"
      },
      "source": [
        "### INTRODUCTION\n",
        "\n",
        "In this project, we will analyze the Google Playstore Dataset from Kaggle. This dataset has over 4.5 millions rows and 29 columns. We'll use the useful 17 columns for our Analysis. The data set can be viewed using this link: 'https://www.kaggle.com/datasets/geothomas/playstore-dataset?resource=download&select=Playstore_final.csv'\n",
        "\n",
        "The main objective of this project is to get a better understanding about the Google Play Store Apps by applying the data analysis & visualization skills to the real-world dataset.\n",
        "\n",
        "**Here is an outline of the steps we'll follow:**\n",
        "\n",
        "1.  Downloading a dataset from an online source.\n",
        "2.  Data preparation and cleaning\n",
        "3.  Exploratory Analysis and Visualization.\n",
        "4.  Asking and Answering interesting questions.\n",
        "5.  Summary\n",
        "6.  Inferences and conclusion.\n",
        "7.  Reference\n",
        "\n",
        "**Exploratory Data Analysis (EDA)** is the process of exploring, investigating and gathering insights from data using statistical measures and visualizations. The objective of EDA is to develop and understanding of data, by uncovering trends, relationships and patterns.\n",
        "\n",
        "EDA is both a science and an art. On the one hand it requires the knowledge of statistics, visualization techniques and data analysis tools like Numpy, Pandas, Seaborn etc. On the other hand, it requires asking interesting questions to guide the investigation and interpreting numbers & figures to generate useful insights.\n",
        "\n",
        "\n",
        "![EDA](https://i.imgur.com/FT73bKp.png)"
      ]
    },
    {
      "cell_type": "markdown",
      "metadata": {
        "id": "Mm7qSuS20hB8"
      },
      "source": [
        "### __1. DOWNLOADING DATASET FROM AN ONLINE SOURCE__"
      ]
    },
    {
      "cell_type": "markdown",
      "metadata": {
        "id": "j5FGuPo2U51I"
      },
      "source": [
        "#### Installing and importing all required Libraries "
      ]
    },
    {
      "cell_type": "code",
      "execution_count": null,
      "metadata": {
        "id": "oBDuZ56n0hB9"
      },
      "outputs": [],
      "source": [
        "!pip install opendatasets --upgrade --quiet\n",
        "!pip install matplotlib seaborn --upgrade --quiet\n",
        "!pip install plotly --upgrade --quiet\n",
        "!pip install -U matplotlib --upgrade --quiet\n",
        "!pip install folium --upgrade --quiet\n",
        "!pip install numpy --upgrade --quiet \n",
        "import os\n",
        "import pandas as pd\n",
        "import datetime\n",
        "import numpy as np\n",
        "import matplotlib.pyplot as plt\n",
        "import matplotlib\n",
        "import opendatasets as od\n",
        "import folium\n",
        "import plotly.express as px\n",
        "import plotly.graph_objects as go\n",
        "from plotly.subplots import make_subplots"
      ]
    },
    {
      "cell_type": "markdown",
      "metadata": {
        "id": "BaCjGGDR0hCC"
      },
      "source": [
        "**Downloading the Dataset**\n",
        "\n",
        "- **We will download the Google Play store Apps Data set from Kaggle using \"Opendatasets\" library**"
      ]
    },
    {
      "cell_type": "code",
      "execution_count": null,
      "metadata": {
        "colab": {
          "base_uri": "https://localhost:8080/"
        },
        "id": "-SOGmJTkgQus",
        "outputId": "f1175b3f-03cb-486a-e457-0d55cc89a768"
      },
      "outputs": [
        {
          "output_type": "stream",
          "name": "stdout",
          "text": [
            "Downloading playstore-dataset.zip to ./playstore-dataset\n"
          ]
        },
        {
          "output_type": "stream",
          "name": "stderr",
          "text": [
            "100%|██████████| 41.9M/41.9M [00:02<00:00, 15.9MB/s]\n"
          ]
        },
        {
          "output_type": "stream",
          "name": "stdout",
          "text": [
            "\n"
          ]
        }
      ],
      "source": [
        "download_url = 'https://www.kaggle.com/datasets/geothomas/playstore-dataset?resource=download&select=Playstore_final.csv'\n",
        "od.download(download_url)"
      ]
    },
    {
      "cell_type": "code",
      "execution_count": null,
      "metadata": {
        "colab": {
          "base_uri": "https://localhost:8080/"
        },
        "id": "yVodMblea4s1",
        "outputId": "f965ce31-1a9a-40ba-c1a6-bcc353a84881"
      },
      "outputs": [
        {
          "output_type": "execute_result",
          "data": {
            "text/plain": [
              "['Playstore_final.csv']"
            ]
          },
          "metadata": {},
          "execution_count": 7
        }
      ],
      "source": [
        "os.listdir('/content/playstore-dataset')"
      ]
    },
    {
      "cell_type": "markdown",
      "metadata": {
        "id": "GZMpyzGl0hCF"
      },
      "source": [
        "#### __Converting the dataset in csv format to Pandas Dataframe using Pandas Library__"
      ]
    },
    {
      "cell_type": "code",
      "execution_count": null,
      "metadata": {
        "colab": {
          "base_uri": "https://localhost:8080/"
        },
        "id": "ntvGLR6u9e1s",
        "outputId": "dbb5cf51-f0a2-45fd-8769-4678f1032833"
      },
      "outputs": [
        {
          "output_type": "stream",
          "name": "stderr",
          "text": [
            "/usr/local/lib/python3.8/dist-packages/IPython/core/interactiveshell.py:3326: FutureWarning: The error_bad_lines argument has been deprecated and will be removed in a future version.\n",
            "\n",
            "\n",
            "  exec(code_obj, self.user_global_ns, self.user_ns)\n",
            "b'Skipping line 155239: expected 29 fields, saw 57\\n'\n",
            "b'Skipping line 293106: expected 29 fields, saw 57\\n'\n",
            "/usr/local/lib/python3.8/dist-packages/IPython/core/interactiveshell.py:3326: DtypeWarning: Columns (7,12) have mixed types.Specify dtype option on import or set low_memory=False.\n",
            "  exec(code_obj, self.user_global_ns, self.user_ns)\n"
          ]
        }
      ],
      "source": [
        "playstore_apps_df= pd.read_csv('playstore-dataset/Playstore_final.csv', error_bad_lines=False)"
      ]
    },
    {
      "cell_type": "markdown",
      "metadata": {
        "id": "pPWB2r8pU51Q"
      },
      "source": [
        "**Displaying the dataframe using the Pandas Library**"
      ]
    },
    {
      "cell_type": "code",
      "execution_count": null,
      "metadata": {
        "colab": {
          "base_uri": "https://localhost:8080/",
          "height": 768
        },
        "id": "S__rktNYBUwu",
        "outputId": "f2336fc8-33df-4aba-b201-e111013ca158"
      },
      "outputs": [
        {
          "output_type": "execute_result",
          "data": {
            "text/plain": [
              "                  App Name                                             App Id  \\\n",
              "0     Logistics Management              com.eniseistudio.logistics_management   \n",
              "1  Estados Unidos Noticias               com.eniseistudio.news.estados_unidos   \n",
              "2         Dental Assistant                  com.eniseistudio.dental_assistant   \n",
              "3        Medical Assistant          com.eniseistudio.course.medical_assistant   \n",
              "4  Business Administration  com.eniseistudio.majors.course.business_admini...   \n",
              "\n",
              "           Category    Rating  Rating Count Installs  Minimum Installs  Free  \\\n",
              "0         Education  4.090909          66.0  10,000+           10000.0  True   \n",
              "1  News & Magazines  4.000000           8.0   1,000+            1000.0  True   \n",
              "2         Education  3.866667          15.0  10,000+           10000.0  True   \n",
              "3         Education  4.000000          18.0   5,000+            5000.0  True   \n",
              "4         Education  4.023256          86.0  50,000+           50000.0  True   \n",
              "\n",
              "   Price Currency  ... Ad Supported In app purchases Editor Choice  \\\n",
              "0    0.0      USD  ...         True            False         False   \n",
              "1    0.0      USD  ...         True            False         False   \n",
              "2    0.0      USD  ...         True            False         False   \n",
              "3    0.0      USD  ...         True            False         False   \n",
              "4    0.0      USD  ...         True            False         False   \n",
              "\n",
              "                                             Summary Reviews  \\\n",
              "0  Leading Online Learning and Training System in...    28.0   \n",
              "1  Top Stories\\r\\nWorld\\r\\nEntertainment\\r\\nSport...     3.0   \n",
              "2  Dental Assistant: Study Dental Assistant, Dent...     3.0   \n",
              "3  Medical Assistant Degree Medical Assistant Job...     7.0   \n",
              "4  Business Administration Learning, Business Adm...    29.0   \n",
              "\n",
              "  Android version Text     Developer  \\\n",
              "0           4.0 and up  eniseistudio   \n",
              "1           4.0 and up  eniseistudio   \n",
              "2           4.0 and up  eniseistudio   \n",
              "3           4.0 and up  eniseistudio   \n",
              "4           4.0 and up  eniseistudio   \n",
              "\n",
              "                                   Developer Address Developer Internal ID  \\\n",
              "0  7115 N Muscatel Ave San Gabriel, CA 91775 Unit...          4.656447e+18   \n",
              "1  7115 N Muscatel Ave San Gabriel, CA 91775 Unit...          4.656447e+18   \n",
              "2  7115 N Muscatel Ave San Gabriel, CA 91775 Unit...          4.656447e+18   \n",
              "3  7115 N Muscatel Ave San Gabriel, CA 91775 Unit...          4.656447e+18   \n",
              "4  7115 N Muscatel Ave San Gabriel, CA 91775 Unit...          4.656447e+18   \n",
              "\n",
              "  Version  \n",
              "0   1.1.5  \n",
              "1   1.2.3  \n",
              "2   1.1.5  \n",
              "3   1.1.4  \n",
              "4   1.1.6  \n",
              "\n",
              "[5 rows x 29 columns]"
            ],
            "text/html": [
              "\n",
              "  <div id=\"df-286af886-7e9a-4eac-95cb-80f4ec5a3983\">\n",
              "    <div class=\"colab-df-container\">\n",
              "      <div>\n",
              "<style scoped>\n",
              "    .dataframe tbody tr th:only-of-type {\n",
              "        vertical-align: middle;\n",
              "    }\n",
              "\n",
              "    .dataframe tbody tr th {\n",
              "        vertical-align: top;\n",
              "    }\n",
              "\n",
              "    .dataframe thead th {\n",
              "        text-align: right;\n",
              "    }\n",
              "</style>\n",
              "<table border=\"1\" class=\"dataframe\">\n",
              "  <thead>\n",
              "    <tr style=\"text-align: right;\">\n",
              "      <th></th>\n",
              "      <th>App Name</th>\n",
              "      <th>App Id</th>\n",
              "      <th>Category</th>\n",
              "      <th>Rating</th>\n",
              "      <th>Rating Count</th>\n",
              "      <th>Installs</th>\n",
              "      <th>Minimum Installs</th>\n",
              "      <th>Free</th>\n",
              "      <th>Price</th>\n",
              "      <th>Currency</th>\n",
              "      <th>...</th>\n",
              "      <th>Ad Supported</th>\n",
              "      <th>In app purchases</th>\n",
              "      <th>Editor Choice</th>\n",
              "      <th>Summary</th>\n",
              "      <th>Reviews</th>\n",
              "      <th>Android version Text</th>\n",
              "      <th>Developer</th>\n",
              "      <th>Developer Address</th>\n",
              "      <th>Developer Internal ID</th>\n",
              "      <th>Version</th>\n",
              "    </tr>\n",
              "  </thead>\n",
              "  <tbody>\n",
              "    <tr>\n",
              "      <th>0</th>\n",
              "      <td>Logistics Management</td>\n",
              "      <td>com.eniseistudio.logistics_management</td>\n",
              "      <td>Education</td>\n",
              "      <td>4.090909</td>\n",
              "      <td>66.0</td>\n",
              "      <td>10,000+</td>\n",
              "      <td>10000.0</td>\n",
              "      <td>True</td>\n",
              "      <td>0.0</td>\n",
              "      <td>USD</td>\n",
              "      <td>...</td>\n",
              "      <td>True</td>\n",
              "      <td>False</td>\n",
              "      <td>False</td>\n",
              "      <td>Leading Online Learning and Training System in...</td>\n",
              "      <td>28.0</td>\n",
              "      <td>4.0 and up</td>\n",
              "      <td>eniseistudio</td>\n",
              "      <td>7115 N Muscatel Ave San Gabriel, CA 91775 Unit...</td>\n",
              "      <td>4.656447e+18</td>\n",
              "      <td>1.1.5</td>\n",
              "    </tr>\n",
              "    <tr>\n",
              "      <th>1</th>\n",
              "      <td>Estados Unidos Noticias</td>\n",
              "      <td>com.eniseistudio.news.estados_unidos</td>\n",
              "      <td>News &amp; Magazines</td>\n",
              "      <td>4.000000</td>\n",
              "      <td>8.0</td>\n",
              "      <td>1,000+</td>\n",
              "      <td>1000.0</td>\n",
              "      <td>True</td>\n",
              "      <td>0.0</td>\n",
              "      <td>USD</td>\n",
              "      <td>...</td>\n",
              "      <td>True</td>\n",
              "      <td>False</td>\n",
              "      <td>False</td>\n",
              "      <td>Top Stories\\r\\nWorld\\r\\nEntertainment\\r\\nSport...</td>\n",
              "      <td>3.0</td>\n",
              "      <td>4.0 and up</td>\n",
              "      <td>eniseistudio</td>\n",
              "      <td>7115 N Muscatel Ave San Gabriel, CA 91775 Unit...</td>\n",
              "      <td>4.656447e+18</td>\n",
              "      <td>1.2.3</td>\n",
              "    </tr>\n",
              "    <tr>\n",
              "      <th>2</th>\n",
              "      <td>Dental Assistant</td>\n",
              "      <td>com.eniseistudio.dental_assistant</td>\n",
              "      <td>Education</td>\n",
              "      <td>3.866667</td>\n",
              "      <td>15.0</td>\n",
              "      <td>10,000+</td>\n",
              "      <td>10000.0</td>\n",
              "      <td>True</td>\n",
              "      <td>0.0</td>\n",
              "      <td>USD</td>\n",
              "      <td>...</td>\n",
              "      <td>True</td>\n",
              "      <td>False</td>\n",
              "      <td>False</td>\n",
              "      <td>Dental Assistant: Study Dental Assistant, Dent...</td>\n",
              "      <td>3.0</td>\n",
              "      <td>4.0 and up</td>\n",
              "      <td>eniseistudio</td>\n",
              "      <td>7115 N Muscatel Ave San Gabriel, CA 91775 Unit...</td>\n",
              "      <td>4.656447e+18</td>\n",
              "      <td>1.1.5</td>\n",
              "    </tr>\n",
              "    <tr>\n",
              "      <th>3</th>\n",
              "      <td>Medical Assistant</td>\n",
              "      <td>com.eniseistudio.course.medical_assistant</td>\n",
              "      <td>Education</td>\n",
              "      <td>4.000000</td>\n",
              "      <td>18.0</td>\n",
              "      <td>5,000+</td>\n",
              "      <td>5000.0</td>\n",
              "      <td>True</td>\n",
              "      <td>0.0</td>\n",
              "      <td>USD</td>\n",
              "      <td>...</td>\n",
              "      <td>True</td>\n",
              "      <td>False</td>\n",
              "      <td>False</td>\n",
              "      <td>Medical Assistant Degree Medical Assistant Job...</td>\n",
              "      <td>7.0</td>\n",
              "      <td>4.0 and up</td>\n",
              "      <td>eniseistudio</td>\n",
              "      <td>7115 N Muscatel Ave San Gabriel, CA 91775 Unit...</td>\n",
              "      <td>4.656447e+18</td>\n",
              "      <td>1.1.4</td>\n",
              "    </tr>\n",
              "    <tr>\n",
              "      <th>4</th>\n",
              "      <td>Business Administration</td>\n",
              "      <td>com.eniseistudio.majors.course.business_admini...</td>\n",
              "      <td>Education</td>\n",
              "      <td>4.023256</td>\n",
              "      <td>86.0</td>\n",
              "      <td>50,000+</td>\n",
              "      <td>50000.0</td>\n",
              "      <td>True</td>\n",
              "      <td>0.0</td>\n",
              "      <td>USD</td>\n",
              "      <td>...</td>\n",
              "      <td>True</td>\n",
              "      <td>False</td>\n",
              "      <td>False</td>\n",
              "      <td>Business Administration Learning, Business Adm...</td>\n",
              "      <td>29.0</td>\n",
              "      <td>4.0 and up</td>\n",
              "      <td>eniseistudio</td>\n",
              "      <td>7115 N Muscatel Ave San Gabriel, CA 91775 Unit...</td>\n",
              "      <td>4.656447e+18</td>\n",
              "      <td>1.1.6</td>\n",
              "    </tr>\n",
              "  </tbody>\n",
              "</table>\n",
              "<p>5 rows × 29 columns</p>\n",
              "</div>\n",
              "      <button class=\"colab-df-convert\" onclick=\"convertToInteractive('df-286af886-7e9a-4eac-95cb-80f4ec5a3983')\"\n",
              "              title=\"Convert this dataframe to an interactive table.\"\n",
              "              style=\"display:none;\">\n",
              "        \n",
              "  <svg xmlns=\"http://www.w3.org/2000/svg\" height=\"24px\"viewBox=\"0 0 24 24\"\n",
              "       width=\"24px\">\n",
              "    <path d=\"M0 0h24v24H0V0z\" fill=\"none\"/>\n",
              "    <path d=\"M18.56 5.44l.94 2.06.94-2.06 2.06-.94-2.06-.94-.94-2.06-.94 2.06-2.06.94zm-11 1L8.5 8.5l.94-2.06 2.06-.94-2.06-.94L8.5 2.5l-.94 2.06-2.06.94zm10 10l.94 2.06.94-2.06 2.06-.94-2.06-.94-.94-2.06-.94 2.06-2.06.94z\"/><path d=\"M17.41 7.96l-1.37-1.37c-.4-.4-.92-.59-1.43-.59-.52 0-1.04.2-1.43.59L10.3 9.45l-7.72 7.72c-.78.78-.78 2.05 0 2.83L4 21.41c.39.39.9.59 1.41.59.51 0 1.02-.2 1.41-.59l7.78-7.78 2.81-2.81c.8-.78.8-2.07 0-2.86zM5.41 20L4 18.59l7.72-7.72 1.47 1.35L5.41 20z\"/>\n",
              "  </svg>\n",
              "      </button>\n",
              "      \n",
              "  <style>\n",
              "    .colab-df-container {\n",
              "      display:flex;\n",
              "      flex-wrap:wrap;\n",
              "      gap: 12px;\n",
              "    }\n",
              "\n",
              "    .colab-df-convert {\n",
              "      background-color: #E8F0FE;\n",
              "      border: none;\n",
              "      border-radius: 50%;\n",
              "      cursor: pointer;\n",
              "      display: none;\n",
              "      fill: #1967D2;\n",
              "      height: 32px;\n",
              "      padding: 0 0 0 0;\n",
              "      width: 32px;\n",
              "    }\n",
              "\n",
              "    .colab-df-convert:hover {\n",
              "      background-color: #E2EBFA;\n",
              "      box-shadow: 0px 1px 2px rgba(60, 64, 67, 0.3), 0px 1px 3px 1px rgba(60, 64, 67, 0.15);\n",
              "      fill: #174EA6;\n",
              "    }\n",
              "\n",
              "    [theme=dark] .colab-df-convert {\n",
              "      background-color: #3B4455;\n",
              "      fill: #D2E3FC;\n",
              "    }\n",
              "\n",
              "    [theme=dark] .colab-df-convert:hover {\n",
              "      background-color: #434B5C;\n",
              "      box-shadow: 0px 1px 3px 1px rgba(0, 0, 0, 0.15);\n",
              "      filter: drop-shadow(0px 1px 2px rgba(0, 0, 0, 0.3));\n",
              "      fill: #FFFFFF;\n",
              "    }\n",
              "  </style>\n",
              "\n",
              "      <script>\n",
              "        const buttonEl =\n",
              "          document.querySelector('#df-286af886-7e9a-4eac-95cb-80f4ec5a3983 button.colab-df-convert');\n",
              "        buttonEl.style.display =\n",
              "          google.colab.kernel.accessAllowed ? 'block' : 'none';\n",
              "\n",
              "        async function convertToInteractive(key) {\n",
              "          const element = document.querySelector('#df-286af886-7e9a-4eac-95cb-80f4ec5a3983');\n",
              "          const dataTable =\n",
              "            await google.colab.kernel.invokeFunction('convertToInteractive',\n",
              "                                                     [key], {});\n",
              "          if (!dataTable) return;\n",
              "\n",
              "          const docLinkHtml = 'Like what you see? Visit the ' +\n",
              "            '<a target=\"_blank\" href=https://colab.research.google.com/notebooks/data_table.ipynb>data table notebook</a>'\n",
              "            + ' to learn more about interactive tables.';\n",
              "          element.innerHTML = '';\n",
              "          dataTable['output_type'] = 'display_data';\n",
              "          await google.colab.output.renderOutput(dataTable, element);\n",
              "          const docLink = document.createElement('div');\n",
              "          docLink.innerHTML = docLinkHtml;\n",
              "          element.appendChild(docLink);\n",
              "        }\n",
              "      </script>\n",
              "    </div>\n",
              "  </div>\n",
              "  "
            ]
          },
          "metadata": {},
          "execution_count": 9
        }
      ],
      "source": [
        "playstore_apps_df[:5]"
      ]
    },
    {
      "cell_type": "markdown",
      "metadata": {
        "id": "YFtqEDvv0hCJ"
      },
      "source": [
        "#### Checking the number of rows and columns in the dataset downloaded"
      ]
    },
    {
      "cell_type": "code",
      "execution_count": null,
      "metadata": {
        "colab": {
          "base_uri": "https://localhost:8080/"
        },
        "id": "V5FYxCoP_PDV",
        "outputId": "9fd6b98e-2302-4b89-8997-0d520e4340df"
      },
      "outputs": [
        {
          "output_type": "execute_result",
          "data": {
            "text/plain": [
              "(450793, 29)"
            ]
          },
          "metadata": {},
          "execution_count": 10
        }
      ],
      "source": [
        "playstore_apps_df.shape"
      ]
    },
    {
      "cell_type": "markdown",
      "metadata": {
        "id": "YeubBvpn0hCL"
      },
      "source": [
        "**Checking the info of all columns to know thw datatypes and Non-Null counts**"
      ]
    },
    {
      "cell_type": "code",
      "execution_count": null,
      "metadata": {
        "colab": {
          "base_uri": "https://localhost:8080/"
        },
        "id": "VVTUMYlQ9_jy",
        "outputId": "692aece4-d214-4787-d60b-7382045b0c53"
      },
      "outputs": [
        {
          "output_type": "stream",
          "name": "stdout",
          "text": [
            "<class 'pandas.core.frame.DataFrame'>\n",
            "RangeIndex: 450793 entries, 0 to 450792\n",
            "Data columns (total 29 columns):\n",
            " #   Column                 Non-Null Count   Dtype  \n",
            "---  ------                 --------------   -----  \n",
            " 0   App Name               450780 non-null  object \n",
            " 1   App Id                 450793 non-null  object \n",
            " 2   Category               450780 non-null  object \n",
            " 3   Rating                 447981 non-null  float64\n",
            " 4   Rating Count           332025 non-null  float64\n",
            " 5   Installs               450702 non-null  object \n",
            " 6   Minimum Installs       450780 non-null  float64\n",
            " 7   Free                   450701 non-null  object \n",
            " 8   Price                  450701 non-null  float64\n",
            " 9   Currency               450701 non-null  object \n",
            " 10  Size                   450765 non-null  object \n",
            " 11  Minimum Android        449711 non-null  object \n",
            " 12  Developer Id           450777 non-null  object \n",
            " 13  Developer Website      341067 non-null  object \n",
            " 14  Developer Email        450767 non-null  object \n",
            " 15  Released               447346 non-null  object \n",
            " 16  Last update            450793 non-null  object \n",
            " 17  Privacy Policy         399945 non-null  object \n",
            " 18  Content Rating         450780 non-null  object \n",
            " 19  Ad Supported           281063 non-null  object \n",
            " 20  In app purchases       450793 non-null  bool   \n",
            " 21  Editor Choice          450793 non-null  bool   \n",
            " 22  Summary                450592 non-null  object \n",
            " 23  Reviews                447981 non-null  float64\n",
            " 24  Android version Text   449711 non-null  object \n",
            " 25  Developer              450777 non-null  object \n",
            " 26  Developer Address      262001 non-null  object \n",
            " 27  Developer Internal ID  450780 non-null  float64\n",
            " 28  Version                450620 non-null  object \n",
            "dtypes: bool(2), float64(6), object(21)\n",
            "memory usage: 93.7+ MB\n"
          ]
        }
      ],
      "source": [
        "playstore_apps_df.info()"
      ]
    },
    {
      "cell_type": "markdown",
      "metadata": {
        "id": "-e12v_EZU51X"
      },
      "source": [
        "**Type is found by using the `type()` function**"
      ]
    },
    {
      "cell_type": "code",
      "execution_count": null,
      "metadata": {
        "colab": {
          "base_uri": "https://localhost:8080/"
        },
        "id": "rRG_lETOEfKa",
        "outputId": "235206ca-a525-4795-9be7-0c20aed982f6",
        "scrolled": false
      },
      "outputs": [
        {
          "output_type": "execute_result",
          "data": {
            "text/plain": [
              "pandas.core.frame.DataFrame"
            ]
          },
          "metadata": {},
          "execution_count": 12
        }
      ],
      "source": [
        "type(playstore_apps_df)"
      ]
    },
    {
      "cell_type": "markdown",
      "metadata": {
        "id": "ZS0l84mpU51Y"
      },
      "source": [
        "**Data Type of each columns is found using the `dtype()` function**"
      ]
    },
    {
      "cell_type": "code",
      "execution_count": null,
      "metadata": {
        "colab": {
          "base_uri": "https://localhost:8080/"
        },
        "id": "9ouM0Pt1FW8T",
        "outputId": "ad8915ee-8476-44ea-ba78-06e822e46e6c",
        "scrolled": true
      },
      "outputs": [
        {
          "output_type": "execute_result",
          "data": {
            "text/plain": [
              "App Name                  object\n",
              "App Id                    object\n",
              "Category                  object\n",
              "Rating                   float64\n",
              "Rating Count             float64\n",
              "Installs                  object\n",
              "Minimum Installs         float64\n",
              "Free                      object\n",
              "Price                    float64\n",
              "Currency                  object\n",
              "Size                      object\n",
              "Minimum Android           object\n",
              "Developer Id              object\n",
              "Developer Website         object\n",
              "Developer Email           object\n",
              "Released                  object\n",
              "Last update               object\n",
              "Privacy Policy            object\n",
              "Content Rating            object\n",
              "Ad Supported              object\n",
              "In app purchases            bool\n",
              "Editor Choice               bool\n",
              "Summary                   object\n",
              "Reviews                  float64\n",
              "Android version Text      object\n",
              "Developer                 object\n",
              "Developer Address         object\n",
              "Developer Internal ID    float64\n",
              "Version                   object\n",
              "dtype: object"
            ]
          },
          "metadata": {},
          "execution_count": 13
        }
      ],
      "source": [
        "playstore_apps_df.dtypes"
      ]
    },
    {
      "cell_type": "markdown",
      "metadata": {
        "id": "GF7fnZ5V0hCO"
      },
      "source": [
        "**Displaying all column names alone in the dataset**"
      ]
    },
    {
      "cell_type": "code",
      "execution_count": null,
      "metadata": {
        "colab": {
          "base_uri": "https://localhost:8080/"
        },
        "id": "A-kVvt2YFao8",
        "outputId": "1ae22382-4abc-4831-c70f-3742c7fd17cd"
      },
      "outputs": [
        {
          "output_type": "execute_result",
          "data": {
            "text/plain": [
              "Index(['App Name', 'App Id', 'Category', 'Rating', 'Rating Count', 'Installs',\n",
              "       'Minimum Installs', 'Free', 'Price', 'Currency', 'Size',\n",
              "       'Minimum Android', 'Developer Id', 'Developer Website',\n",
              "       'Developer Email', 'Released', 'Last update', 'Privacy Policy',\n",
              "       'Content Rating', 'Ad Supported', 'In app purchases', 'Editor Choice',\n",
              "       'Summary', 'Reviews', 'Android version Text', 'Developer',\n",
              "       'Developer Address', 'Developer Internal ID', 'Version'],\n",
              "      dtype='object')"
            ]
          },
          "metadata": {},
          "execution_count": 14
        }
      ],
      "source": [
        "playstore_apps_df.columns"
      ]
    },
    {
      "cell_type": "markdown",
      "metadata": {
        "id": "oKVlcPiA0hCQ"
      },
      "source": [
        "### __2. DATA PREPERATION AND CLEANING__"
      ]
    },
    {
      "cell_type": "markdown",
      "metadata": {
        "id": "Bvu1P1ST24in"
      },
      "source": [
        "**Now we will explore the data and displaying only the required columns which will be useful for our Analysis. It is done by the `selected_cols`[]**"
      ]
    },
    {
      "cell_type": "code",
      "execution_count": null,
      "metadata": {
        "colab": {
          "base_uri": "https://localhost:8080/"
        },
        "id": "E-tR3Mk6l9Mm",
        "outputId": "7af84cc8-6fb8-414c-8729-df02c7033082"
      },
      "outputs": [
        {
          "output_type": "stream",
          "name": "stderr",
          "text": [
            "/usr/local/lib/python3.8/dist-packages/IPython/core/interactiveshell.py:3326: FutureWarning: The error_bad_lines argument has been deprecated and will be removed in a future version.\n",
            "\n",
            "\n",
            "  exec(code_obj, self.user_global_ns, self.user_ns)\n",
            "b'Skipping line 155239: expected 29 fields, saw 57\\n'\n",
            "b'Skipping line 293106: expected 29 fields, saw 57\\n'\n",
            "/usr/local/lib/python3.8/dist-packages/IPython/core/interactiveshell.py:3326: DtypeWarning: Columns (7,12) have mixed types.Specify dtype option on import or set low_memory=False.\n",
            "  exec(code_obj, self.user_global_ns, self.user_ns)\n"
          ]
        }
      ],
      "source": [
        "selected_dtypes ={\n",
        "    'App Name': 'str',\n",
        "    'Category': 'object',\n",
        "    'Rating':'float64',\n",
        "    'Installs': 'object',\n",
        "    'Minimum Installs':'float64',\n",
        "    'Free': 'object',\n",
        "    'Price': 'float64',\n",
        "    'Currency': 'object',\n",
        "    'Size': 'object',\n",
        "    'Released': 'object',\n",
        "    'Last update': 'object',\n",
        "    'Content Rating': 'object',\n",
        "    'In app purchases':'bool',\n",
        "    'Editor Choice':'bool',\n",
        "    'Reviews':'float64',\n",
        "    'Developer': 'object',\n",
        "}\n",
        "selected_cols=['App Name', 'Category','Rating','Installs',\n",
        "       'Minimum Installs', 'Free', 'Price', 'Currency', 'Size',\n",
        "       'Released', 'Last update', 'Content Rating',\n",
        "       'In app purchases', 'Editor Choice','Reviews','Developer']\n",
        "\n",
        "pd.read_csv('playstore-dataset/Playstore_final.csv', error_bad_lines=False)\n",
        "Apps_df = pd.read_csv('playstore-dataset/Playstore_final.csv',error_bad_lines=False, \n",
        "                       usecols=selected_cols,dtype=selected_dtypes)"
      ]
    },
    {
      "cell_type": "markdown",
      "metadata": {
        "id": "x-d2k6xn-Kak"
      },
      "source": [
        "# **Descriptive Statistics**"
      ]
    },
    {
      "cell_type": "code",
      "execution_count": null,
      "metadata": {
        "colab": {
          "base_uri": "https://localhost:8080/",
          "height": 300
        },
        "id": "P86Z8ISZ98wC",
        "outputId": "43304550-cdc7-499e-8118-70ce6d3dc147"
      },
      "outputs": [
        {
          "output_type": "execute_result",
          "data": {
            "text/plain": [
              "              Rating  Minimum Installs          Price       Reviews\n",
              "count  447983.000000      4.507820e+05  450703.000000  4.479830e+05\n",
              "mean        3.018803      8.836482e+05       0.315508  5.118334e+03\n",
              "std         1.860017      3.607626e+07       4.110261  1.993113e+05\n",
              "min         0.000000      0.000000e+00       0.000000  0.000000e+00\n",
              "25%         0.000000      5.000000e+02       0.000000  0.000000e+00\n",
              "50%         3.933333      5.000000e+03       0.000000  1.700000e+01\n",
              "75%         4.390000      5.000000e+04       0.000000  1.780000e+02\n",
              "max         5.000000      1.000000e+10     400.000000  5.237720e+07"
            ],
            "text/html": [
              "\n",
              "  <div id=\"df-13babffd-4046-41d6-8671-4d7615b9be9c\">\n",
              "    <div class=\"colab-df-container\">\n",
              "      <div>\n",
              "<style scoped>\n",
              "    .dataframe tbody tr th:only-of-type {\n",
              "        vertical-align: middle;\n",
              "    }\n",
              "\n",
              "    .dataframe tbody tr th {\n",
              "        vertical-align: top;\n",
              "    }\n",
              "\n",
              "    .dataframe thead th {\n",
              "        text-align: right;\n",
              "    }\n",
              "</style>\n",
              "<table border=\"1\" class=\"dataframe\">\n",
              "  <thead>\n",
              "    <tr style=\"text-align: right;\">\n",
              "      <th></th>\n",
              "      <th>Rating</th>\n",
              "      <th>Minimum Installs</th>\n",
              "      <th>Price</th>\n",
              "      <th>Reviews</th>\n",
              "    </tr>\n",
              "  </thead>\n",
              "  <tbody>\n",
              "    <tr>\n",
              "      <th>count</th>\n",
              "      <td>447983.000000</td>\n",
              "      <td>4.507820e+05</td>\n",
              "      <td>450703.000000</td>\n",
              "      <td>4.479830e+05</td>\n",
              "    </tr>\n",
              "    <tr>\n",
              "      <th>mean</th>\n",
              "      <td>3.018803</td>\n",
              "      <td>8.836482e+05</td>\n",
              "      <td>0.315508</td>\n",
              "      <td>5.118334e+03</td>\n",
              "    </tr>\n",
              "    <tr>\n",
              "      <th>std</th>\n",
              "      <td>1.860017</td>\n",
              "      <td>3.607626e+07</td>\n",
              "      <td>4.110261</td>\n",
              "      <td>1.993113e+05</td>\n",
              "    </tr>\n",
              "    <tr>\n",
              "      <th>min</th>\n",
              "      <td>0.000000</td>\n",
              "      <td>0.000000e+00</td>\n",
              "      <td>0.000000</td>\n",
              "      <td>0.000000e+00</td>\n",
              "    </tr>\n",
              "    <tr>\n",
              "      <th>25%</th>\n",
              "      <td>0.000000</td>\n",
              "      <td>5.000000e+02</td>\n",
              "      <td>0.000000</td>\n",
              "      <td>0.000000e+00</td>\n",
              "    </tr>\n",
              "    <tr>\n",
              "      <th>50%</th>\n",
              "      <td>3.933333</td>\n",
              "      <td>5.000000e+03</td>\n",
              "      <td>0.000000</td>\n",
              "      <td>1.700000e+01</td>\n",
              "    </tr>\n",
              "    <tr>\n",
              "      <th>75%</th>\n",
              "      <td>4.390000</td>\n",
              "      <td>5.000000e+04</td>\n",
              "      <td>0.000000</td>\n",
              "      <td>1.780000e+02</td>\n",
              "    </tr>\n",
              "    <tr>\n",
              "      <th>max</th>\n",
              "      <td>5.000000</td>\n",
              "      <td>1.000000e+10</td>\n",
              "      <td>400.000000</td>\n",
              "      <td>5.237720e+07</td>\n",
              "    </tr>\n",
              "  </tbody>\n",
              "</table>\n",
              "</div>\n",
              "      <button class=\"colab-df-convert\" onclick=\"convertToInteractive('df-13babffd-4046-41d6-8671-4d7615b9be9c')\"\n",
              "              title=\"Convert this dataframe to an interactive table.\"\n",
              "              style=\"display:none;\">\n",
              "        \n",
              "  <svg xmlns=\"http://www.w3.org/2000/svg\" height=\"24px\"viewBox=\"0 0 24 24\"\n",
              "       width=\"24px\">\n",
              "    <path d=\"M0 0h24v24H0V0z\" fill=\"none\"/>\n",
              "    <path d=\"M18.56 5.44l.94 2.06.94-2.06 2.06-.94-2.06-.94-.94-2.06-.94 2.06-2.06.94zm-11 1L8.5 8.5l.94-2.06 2.06-.94-2.06-.94L8.5 2.5l-.94 2.06-2.06.94zm10 10l.94 2.06.94-2.06 2.06-.94-2.06-.94-.94-2.06-.94 2.06-2.06.94z\"/><path d=\"M17.41 7.96l-1.37-1.37c-.4-.4-.92-.59-1.43-.59-.52 0-1.04.2-1.43.59L10.3 9.45l-7.72 7.72c-.78.78-.78 2.05 0 2.83L4 21.41c.39.39.9.59 1.41.59.51 0 1.02-.2 1.41-.59l7.78-7.78 2.81-2.81c.8-.78.8-2.07 0-2.86zM5.41 20L4 18.59l7.72-7.72 1.47 1.35L5.41 20z\"/>\n",
              "  </svg>\n",
              "      </button>\n",
              "      \n",
              "  <style>\n",
              "    .colab-df-container {\n",
              "      display:flex;\n",
              "      flex-wrap:wrap;\n",
              "      gap: 12px;\n",
              "    }\n",
              "\n",
              "    .colab-df-convert {\n",
              "      background-color: #E8F0FE;\n",
              "      border: none;\n",
              "      border-radius: 50%;\n",
              "      cursor: pointer;\n",
              "      display: none;\n",
              "      fill: #1967D2;\n",
              "      height: 32px;\n",
              "      padding: 0 0 0 0;\n",
              "      width: 32px;\n",
              "    }\n",
              "\n",
              "    .colab-df-convert:hover {\n",
              "      background-color: #E2EBFA;\n",
              "      box-shadow: 0px 1px 2px rgba(60, 64, 67, 0.3), 0px 1px 3px 1px rgba(60, 64, 67, 0.15);\n",
              "      fill: #174EA6;\n",
              "    }\n",
              "\n",
              "    [theme=dark] .colab-df-convert {\n",
              "      background-color: #3B4455;\n",
              "      fill: #D2E3FC;\n",
              "    }\n",
              "\n",
              "    [theme=dark] .colab-df-convert:hover {\n",
              "      background-color: #434B5C;\n",
              "      box-shadow: 0px 1px 3px 1px rgba(0, 0, 0, 0.15);\n",
              "      filter: drop-shadow(0px 1px 2px rgba(0, 0, 0, 0.3));\n",
              "      fill: #FFFFFF;\n",
              "    }\n",
              "  </style>\n",
              "\n",
              "      <script>\n",
              "        const buttonEl =\n",
              "          document.querySelector('#df-13babffd-4046-41d6-8671-4d7615b9be9c button.colab-df-convert');\n",
              "        buttonEl.style.display =\n",
              "          google.colab.kernel.accessAllowed ? 'block' : 'none';\n",
              "\n",
              "        async function convertToInteractive(key) {\n",
              "          const element = document.querySelector('#df-13babffd-4046-41d6-8671-4d7615b9be9c');\n",
              "          const dataTable =\n",
              "            await google.colab.kernel.invokeFunction('convertToInteractive',\n",
              "                                                     [key], {});\n",
              "          if (!dataTable) return;\n",
              "\n",
              "          const docLinkHtml = 'Like what you see? Visit the ' +\n",
              "            '<a target=\"_blank\" href=https://colab.research.google.com/notebooks/data_table.ipynb>data table notebook</a>'\n",
              "            + ' to learn more about interactive tables.';\n",
              "          element.innerHTML = '';\n",
              "          dataTable['output_type'] = 'display_data';\n",
              "          await google.colab.output.renderOutput(dataTable, element);\n",
              "          const docLink = document.createElement('div');\n",
              "          docLink.innerHTML = docLinkHtml;\n",
              "          element.appendChild(docLink);\n",
              "        }\n",
              "      </script>\n",
              "    </div>\n",
              "  </div>\n",
              "  "
            ]
          },
          "metadata": {},
          "execution_count": 16
        }
      ],
      "source": [
        "Apps_df.describe()"
      ]
    },
    {
      "cell_type": "markdown",
      "metadata": {
        "id": "zPVmdSUAdrEo"
      },
      "source": [
        " __Let us convert the columns Released and Last Update to datetime format__"
      ]
    },
    {
      "cell_type": "code",
      "execution_count": null,
      "metadata": {
        "colab": {
          "base_uri": "https://localhost:8080/",
          "height": 409
        },
        "id": "gpvI_YrynpAZ",
        "outputId": "e1e6bdf8-62c0-4ef0-9a88-f7b285d1b01b"
      },
      "outputs": [
        {
          "output_type": "execute_result",
          "data": {
            "text/plain": [
              "                  App Name          Category    Rating Installs  \\\n",
              "0     Logistics Management         Education  4.090909  10,000+   \n",
              "1  Estados Unidos Noticias  News & Magazines  4.000000   1,000+   \n",
              "2         Dental Assistant         Education  3.866667  10,000+   \n",
              "3        Medical Assistant         Education  4.000000   5,000+   \n",
              "4  Business Administration         Education  4.023256  50,000+   \n",
              "\n",
              "   Minimum Installs  Free  Price Currency  Size      Released  \\\n",
              "0           10000.0  TRUE    0.0      USD  5.8M  Jul 19, 2017   \n",
              "1            1000.0  TRUE    0.0      USD  5.3M   May 5, 2017   \n",
              "2           10000.0  TRUE    0.0      USD  5.7M  Jul 18, 2017   \n",
              "3            5000.0  TRUE    0.0      USD  5.8M  Jun 24, 2017   \n",
              "4           50000.0  TRUE    0.0      USD  5.7M  Jun 13, 2017   \n",
              "\n",
              "       Last update Content Rating  In app purchases  Editor Choice  Reviews  \\\n",
              "0    July 19, 2017       Everyone             False          False     28.0   \n",
              "1      May 5, 2017       Everyone             False          False      3.0   \n",
              "2    July 18, 2017       Everyone             False          False      3.0   \n",
              "3    June 24, 2017       Everyone             False          False      7.0   \n",
              "4  October 6, 2017       Everyone             False          False     29.0   \n",
              "\n",
              "      Developer  \n",
              "0  eniseistudio  \n",
              "1  eniseistudio  \n",
              "2  eniseistudio  \n",
              "3  eniseistudio  \n",
              "4  eniseistudio  "
            ],
            "text/html": [
              "\n",
              "  <div id=\"df-bbf1ca5c-39f2-4d3e-848b-806d1f473605\">\n",
              "    <div class=\"colab-df-container\">\n",
              "      <div>\n",
              "<style scoped>\n",
              "    .dataframe tbody tr th:only-of-type {\n",
              "        vertical-align: middle;\n",
              "    }\n",
              "\n",
              "    .dataframe tbody tr th {\n",
              "        vertical-align: top;\n",
              "    }\n",
              "\n",
              "    .dataframe thead th {\n",
              "        text-align: right;\n",
              "    }\n",
              "</style>\n",
              "<table border=\"1\" class=\"dataframe\">\n",
              "  <thead>\n",
              "    <tr style=\"text-align: right;\">\n",
              "      <th></th>\n",
              "      <th>App Name</th>\n",
              "      <th>Category</th>\n",
              "      <th>Rating</th>\n",
              "      <th>Installs</th>\n",
              "      <th>Minimum Installs</th>\n",
              "      <th>Free</th>\n",
              "      <th>Price</th>\n",
              "      <th>Currency</th>\n",
              "      <th>Size</th>\n",
              "      <th>Released</th>\n",
              "      <th>Last update</th>\n",
              "      <th>Content Rating</th>\n",
              "      <th>In app purchases</th>\n",
              "      <th>Editor Choice</th>\n",
              "      <th>Reviews</th>\n",
              "      <th>Developer</th>\n",
              "    </tr>\n",
              "  </thead>\n",
              "  <tbody>\n",
              "    <tr>\n",
              "      <th>0</th>\n",
              "      <td>Logistics Management</td>\n",
              "      <td>Education</td>\n",
              "      <td>4.090909</td>\n",
              "      <td>10,000+</td>\n",
              "      <td>10000.0</td>\n",
              "      <td>TRUE</td>\n",
              "      <td>0.0</td>\n",
              "      <td>USD</td>\n",
              "      <td>5.8M</td>\n",
              "      <td>Jul 19, 2017</td>\n",
              "      <td>July 19, 2017</td>\n",
              "      <td>Everyone</td>\n",
              "      <td>False</td>\n",
              "      <td>False</td>\n",
              "      <td>28.0</td>\n",
              "      <td>eniseistudio</td>\n",
              "    </tr>\n",
              "    <tr>\n",
              "      <th>1</th>\n",
              "      <td>Estados Unidos Noticias</td>\n",
              "      <td>News &amp; Magazines</td>\n",
              "      <td>4.000000</td>\n",
              "      <td>1,000+</td>\n",
              "      <td>1000.0</td>\n",
              "      <td>TRUE</td>\n",
              "      <td>0.0</td>\n",
              "      <td>USD</td>\n",
              "      <td>5.3M</td>\n",
              "      <td>May 5, 2017</td>\n",
              "      <td>May 5, 2017</td>\n",
              "      <td>Everyone</td>\n",
              "      <td>False</td>\n",
              "      <td>False</td>\n",
              "      <td>3.0</td>\n",
              "      <td>eniseistudio</td>\n",
              "    </tr>\n",
              "    <tr>\n",
              "      <th>2</th>\n",
              "      <td>Dental Assistant</td>\n",
              "      <td>Education</td>\n",
              "      <td>3.866667</td>\n",
              "      <td>10,000+</td>\n",
              "      <td>10000.0</td>\n",
              "      <td>TRUE</td>\n",
              "      <td>0.0</td>\n",
              "      <td>USD</td>\n",
              "      <td>5.7M</td>\n",
              "      <td>Jul 18, 2017</td>\n",
              "      <td>July 18, 2017</td>\n",
              "      <td>Everyone</td>\n",
              "      <td>False</td>\n",
              "      <td>False</td>\n",
              "      <td>3.0</td>\n",
              "      <td>eniseistudio</td>\n",
              "    </tr>\n",
              "    <tr>\n",
              "      <th>3</th>\n",
              "      <td>Medical Assistant</td>\n",
              "      <td>Education</td>\n",
              "      <td>4.000000</td>\n",
              "      <td>5,000+</td>\n",
              "      <td>5000.0</td>\n",
              "      <td>TRUE</td>\n",
              "      <td>0.0</td>\n",
              "      <td>USD</td>\n",
              "      <td>5.8M</td>\n",
              "      <td>Jun 24, 2017</td>\n",
              "      <td>June 24, 2017</td>\n",
              "      <td>Everyone</td>\n",
              "      <td>False</td>\n",
              "      <td>False</td>\n",
              "      <td>7.0</td>\n",
              "      <td>eniseistudio</td>\n",
              "    </tr>\n",
              "    <tr>\n",
              "      <th>4</th>\n",
              "      <td>Business Administration</td>\n",
              "      <td>Education</td>\n",
              "      <td>4.023256</td>\n",
              "      <td>50,000+</td>\n",
              "      <td>50000.0</td>\n",
              "      <td>TRUE</td>\n",
              "      <td>0.0</td>\n",
              "      <td>USD</td>\n",
              "      <td>5.7M</td>\n",
              "      <td>Jun 13, 2017</td>\n",
              "      <td>October 6, 2017</td>\n",
              "      <td>Everyone</td>\n",
              "      <td>False</td>\n",
              "      <td>False</td>\n",
              "      <td>29.0</td>\n",
              "      <td>eniseistudio</td>\n",
              "    </tr>\n",
              "  </tbody>\n",
              "</table>\n",
              "</div>\n",
              "      <button class=\"colab-df-convert\" onclick=\"convertToInteractive('df-bbf1ca5c-39f2-4d3e-848b-806d1f473605')\"\n",
              "              title=\"Convert this dataframe to an interactive table.\"\n",
              "              style=\"display:none;\">\n",
              "        \n",
              "  <svg xmlns=\"http://www.w3.org/2000/svg\" height=\"24px\"viewBox=\"0 0 24 24\"\n",
              "       width=\"24px\">\n",
              "    <path d=\"M0 0h24v24H0V0z\" fill=\"none\"/>\n",
              "    <path d=\"M18.56 5.44l.94 2.06.94-2.06 2.06-.94-2.06-.94-.94-2.06-.94 2.06-2.06.94zm-11 1L8.5 8.5l.94-2.06 2.06-.94-2.06-.94L8.5 2.5l-.94 2.06-2.06.94zm10 10l.94 2.06.94-2.06 2.06-.94-2.06-.94-.94-2.06-.94 2.06-2.06.94z\"/><path d=\"M17.41 7.96l-1.37-1.37c-.4-.4-.92-.59-1.43-.59-.52 0-1.04.2-1.43.59L10.3 9.45l-7.72 7.72c-.78.78-.78 2.05 0 2.83L4 21.41c.39.39.9.59 1.41.59.51 0 1.02-.2 1.41-.59l7.78-7.78 2.81-2.81c.8-.78.8-2.07 0-2.86zM5.41 20L4 18.59l7.72-7.72 1.47 1.35L5.41 20z\"/>\n",
              "  </svg>\n",
              "      </button>\n",
              "      \n",
              "  <style>\n",
              "    .colab-df-container {\n",
              "      display:flex;\n",
              "      flex-wrap:wrap;\n",
              "      gap: 12px;\n",
              "    }\n",
              "\n",
              "    .colab-df-convert {\n",
              "      background-color: #E8F0FE;\n",
              "      border: none;\n",
              "      border-radius: 50%;\n",
              "      cursor: pointer;\n",
              "      display: none;\n",
              "      fill: #1967D2;\n",
              "      height: 32px;\n",
              "      padding: 0 0 0 0;\n",
              "      width: 32px;\n",
              "    }\n",
              "\n",
              "    .colab-df-convert:hover {\n",
              "      background-color: #E2EBFA;\n",
              "      box-shadow: 0px 1px 2px rgba(60, 64, 67, 0.3), 0px 1px 3px 1px rgba(60, 64, 67, 0.15);\n",
              "      fill: #174EA6;\n",
              "    }\n",
              "\n",
              "    [theme=dark] .colab-df-convert {\n",
              "      background-color: #3B4455;\n",
              "      fill: #D2E3FC;\n",
              "    }\n",
              "\n",
              "    [theme=dark] .colab-df-convert:hover {\n",
              "      background-color: #434B5C;\n",
              "      box-shadow: 0px 1px 3px 1px rgba(0, 0, 0, 0.15);\n",
              "      filter: drop-shadow(0px 1px 2px rgba(0, 0, 0, 0.3));\n",
              "      fill: #FFFFFF;\n",
              "    }\n",
              "  </style>\n",
              "\n",
              "      <script>\n",
              "        const buttonEl =\n",
              "          document.querySelector('#df-bbf1ca5c-39f2-4d3e-848b-806d1f473605 button.colab-df-convert');\n",
              "        buttonEl.style.display =\n",
              "          google.colab.kernel.accessAllowed ? 'block' : 'none';\n",
              "\n",
              "        async function convertToInteractive(key) {\n",
              "          const element = document.querySelector('#df-bbf1ca5c-39f2-4d3e-848b-806d1f473605');\n",
              "          const dataTable =\n",
              "            await google.colab.kernel.invokeFunction('convertToInteractive',\n",
              "                                                     [key], {});\n",
              "          if (!dataTable) return;\n",
              "\n",
              "          const docLinkHtml = 'Like what you see? Visit the ' +\n",
              "            '<a target=\"_blank\" href=https://colab.research.google.com/notebooks/data_table.ipynb>data table notebook</a>'\n",
              "            + ' to learn more about interactive tables.';\n",
              "          element.innerHTML = '';\n",
              "          dataTable['output_type'] = 'display_data';\n",
              "          await google.colab.output.renderOutput(dataTable, element);\n",
              "          const docLink = document.createElement('div');\n",
              "          docLink.innerHTML = docLinkHtml;\n",
              "          element.appendChild(docLink);\n",
              "        }\n",
              "      </script>\n",
              "    </div>\n",
              "  </div>\n",
              "  "
            ]
          },
          "metadata": {},
          "execution_count": 17
        }
      ],
      "source": [
        "Apps_df [:5] # Displaying first 5 rows "
      ]
    },
    {
      "cell_type": "code",
      "execution_count": null,
      "metadata": {
        "colab": {
          "base_uri": "https://localhost:8080/"
        },
        "id": "wRBHKvMGsNNQ",
        "outputId": "bf206b90-0a27-4d75-92be-5ae869574168"
      },
      "outputs": [
        {
          "output_type": "execute_result",
          "data": {
            "text/plain": [
              "(450795, 16)"
            ]
          },
          "metadata": {},
          "execution_count": 18
        }
      ],
      "source": [
        "Apps_df.shape # To find the number of rows and columns of the dataframe"
      ]
    },
    {
      "cell_type": "markdown",
      "metadata": {
        "id": "SO-07wK7U51e"
      },
      "source": [
        "- **To find the missing values in the rows we use `isna().sum()` funcion and sorted it in Descending order by using `sort_values(ascending=False)**"
      ]
    },
    {
      "cell_type": "code",
      "execution_count": null,
      "metadata": {
        "colab": {
          "base_uri": "https://localhost:8080/"
        },
        "id": "Uon5jOe8ufd8",
        "outputId": "2b6a09fd-22f5-485f-a5fe-28c46a5145be"
      },
      "outputs": [
        {
          "output_type": "execute_result",
          "data": {
            "text/plain": [
              "Released            3447\n",
              "Rating              2812\n",
              "Reviews             2812\n",
              "Free                  92\n",
              "Price                 92\n",
              "Currency              92\n",
              "Installs              91\n",
              "Size                  28\n",
              "Developer             16\n",
              "App Name              13\n",
              "Category              13\n",
              "Minimum Installs      13\n",
              "Content Rating        13\n",
              "Last update            0\n",
              "In app purchases       0\n",
              "Editor Choice          0\n",
              "dtype: int64"
            ]
          },
          "metadata": {},
          "execution_count": 19
        }
      ],
      "source": [
        "Apps_df.isna().sum().sort_values(ascending=False)"
      ]
    },
    {
      "cell_type": "markdown",
      "metadata": {
        "id": "A2gMbUroU51f"
      },
      "source": [
        "**Dropping missing value rows which are important for the Data Analysis using the `notnull()` function to particlar rows**"
      ]
    },
    {
      "cell_type": "code",
      "execution_count": null,
      "metadata": {
        "id": "gryDv0WQVV9z",
        "scrolled": false
      },
      "outputs": [],
      "source": [
        "# Drop rows with None/NaN values\n",
        "Apps_df2= Apps_df[Apps_df['App Name'].notnull()]\n",
        "Apps_df2= Apps_df[Apps_df['Developer'].notnull()]"
      ]
    },
    {
      "cell_type": "code",
      "execution_count": null,
      "metadata": {
        "id": "1Xr2FmUpCyrs"
      },
      "outputs": [],
      "source": [
        "Apps_df2= Apps_df[Apps_df['Size'].notnull()]"
      ]
    },
    {
      "cell_type": "code",
      "execution_count": null,
      "metadata": {
        "colab": {
          "base_uri": "https://localhost:8080/"
        },
        "id": "4z1SxfI15WMk",
        "outputId": "fca17006-ecb6-4b8e-be94-035c128448ee"
      },
      "outputs": [
        {
          "output_type": "execute_result",
          "data": {
            "text/plain": [
              "Released            3419\n",
              "Rating              2784\n",
              "Reviews             2784\n",
              "Free                  78\n",
              "Price                 78\n",
              "Currency              78\n",
              "Installs              77\n",
              "Developer              3\n",
              "App Name               0\n",
              "Category               0\n",
              "Minimum Installs       0\n",
              "Size                   0\n",
              "Last update            0\n",
              "Content Rating         0\n",
              "In app purchases       0\n",
              "Editor Choice          0\n",
              "dtype: int64"
            ]
          },
          "metadata": {},
          "execution_count": 22
        }
      ],
      "source": [
        "Apps_df2.isna().sum().sort_values(ascending=False)"
      ]
    },
    {
      "cell_type": "code",
      "execution_count": null,
      "metadata": {
        "id": "mJr-peRf7MAb"
      },
      "outputs": [],
      "source": [
        "Apps_df2= Apps_df[Apps_df['Released'].notnull()]\n",
        "Apps_df2= Apps_df[Apps_df['Last update'].notnull()]"
      ]
    },
    {
      "cell_type": "code",
      "execution_count": null,
      "metadata": {
        "colab": {
          "base_uri": "https://localhost:8080/",
          "height": 409
        },
        "id": "nigAiOnemT91",
        "outputId": "34ff7964-ae75-4134-e681-e08c6fec6cbe"
      },
      "outputs": [
        {
          "output_type": "execute_result",
          "data": {
            "text/plain": [
              "                  App Name          Category    Rating Installs  \\\n",
              "0     Logistics Management         Education  4.090909  10,000+   \n",
              "1  Estados Unidos Noticias  News & Magazines  4.000000   1,000+   \n",
              "2         Dental Assistant         Education  3.866667  10,000+   \n",
              "3        Medical Assistant         Education  4.000000   5,000+   \n",
              "4  Business Administration         Education  4.023256  50,000+   \n",
              "\n",
              "   Minimum Installs  Free  Price Currency  Size      Released  \\\n",
              "0           10000.0  TRUE    0.0      USD  5.8M  Jul 19, 2017   \n",
              "1            1000.0  TRUE    0.0      USD  5.3M   May 5, 2017   \n",
              "2           10000.0  TRUE    0.0      USD  5.7M  Jul 18, 2017   \n",
              "3            5000.0  TRUE    0.0      USD  5.8M  Jun 24, 2017   \n",
              "4           50000.0  TRUE    0.0      USD  5.7M  Jun 13, 2017   \n",
              "\n",
              "       Last update Content Rating  In app purchases  Editor Choice  Reviews  \\\n",
              "0    July 19, 2017       Everyone             False          False     28.0   \n",
              "1      May 5, 2017       Everyone             False          False      3.0   \n",
              "2    July 18, 2017       Everyone             False          False      3.0   \n",
              "3    June 24, 2017       Everyone             False          False      7.0   \n",
              "4  October 6, 2017       Everyone             False          False     29.0   \n",
              "\n",
              "      Developer  \n",
              "0  eniseistudio  \n",
              "1  eniseistudio  \n",
              "2  eniseistudio  \n",
              "3  eniseistudio  \n",
              "4  eniseistudio  "
            ],
            "text/html": [
              "\n",
              "  <div id=\"df-c32161d5-a17d-450c-9cbe-174790865537\">\n",
              "    <div class=\"colab-df-container\">\n",
              "      <div>\n",
              "<style scoped>\n",
              "    .dataframe tbody tr th:only-of-type {\n",
              "        vertical-align: middle;\n",
              "    }\n",
              "\n",
              "    .dataframe tbody tr th {\n",
              "        vertical-align: top;\n",
              "    }\n",
              "\n",
              "    .dataframe thead th {\n",
              "        text-align: right;\n",
              "    }\n",
              "</style>\n",
              "<table border=\"1\" class=\"dataframe\">\n",
              "  <thead>\n",
              "    <tr style=\"text-align: right;\">\n",
              "      <th></th>\n",
              "      <th>App Name</th>\n",
              "      <th>Category</th>\n",
              "      <th>Rating</th>\n",
              "      <th>Installs</th>\n",
              "      <th>Minimum Installs</th>\n",
              "      <th>Free</th>\n",
              "      <th>Price</th>\n",
              "      <th>Currency</th>\n",
              "      <th>Size</th>\n",
              "      <th>Released</th>\n",
              "      <th>Last update</th>\n",
              "      <th>Content Rating</th>\n",
              "      <th>In app purchases</th>\n",
              "      <th>Editor Choice</th>\n",
              "      <th>Reviews</th>\n",
              "      <th>Developer</th>\n",
              "    </tr>\n",
              "  </thead>\n",
              "  <tbody>\n",
              "    <tr>\n",
              "      <th>0</th>\n",
              "      <td>Logistics Management</td>\n",
              "      <td>Education</td>\n",
              "      <td>4.090909</td>\n",
              "      <td>10,000+</td>\n",
              "      <td>10000.0</td>\n",
              "      <td>TRUE</td>\n",
              "      <td>0.0</td>\n",
              "      <td>USD</td>\n",
              "      <td>5.8M</td>\n",
              "      <td>Jul 19, 2017</td>\n",
              "      <td>July 19, 2017</td>\n",
              "      <td>Everyone</td>\n",
              "      <td>False</td>\n",
              "      <td>False</td>\n",
              "      <td>28.0</td>\n",
              "      <td>eniseistudio</td>\n",
              "    </tr>\n",
              "    <tr>\n",
              "      <th>1</th>\n",
              "      <td>Estados Unidos Noticias</td>\n",
              "      <td>News &amp; Magazines</td>\n",
              "      <td>4.000000</td>\n",
              "      <td>1,000+</td>\n",
              "      <td>1000.0</td>\n",
              "      <td>TRUE</td>\n",
              "      <td>0.0</td>\n",
              "      <td>USD</td>\n",
              "      <td>5.3M</td>\n",
              "      <td>May 5, 2017</td>\n",
              "      <td>May 5, 2017</td>\n",
              "      <td>Everyone</td>\n",
              "      <td>False</td>\n",
              "      <td>False</td>\n",
              "      <td>3.0</td>\n",
              "      <td>eniseistudio</td>\n",
              "    </tr>\n",
              "    <tr>\n",
              "      <th>2</th>\n",
              "      <td>Dental Assistant</td>\n",
              "      <td>Education</td>\n",
              "      <td>3.866667</td>\n",
              "      <td>10,000+</td>\n",
              "      <td>10000.0</td>\n",
              "      <td>TRUE</td>\n",
              "      <td>0.0</td>\n",
              "      <td>USD</td>\n",
              "      <td>5.7M</td>\n",
              "      <td>Jul 18, 2017</td>\n",
              "      <td>July 18, 2017</td>\n",
              "      <td>Everyone</td>\n",
              "      <td>False</td>\n",
              "      <td>False</td>\n",
              "      <td>3.0</td>\n",
              "      <td>eniseistudio</td>\n",
              "    </tr>\n",
              "    <tr>\n",
              "      <th>3</th>\n",
              "      <td>Medical Assistant</td>\n",
              "      <td>Education</td>\n",
              "      <td>4.000000</td>\n",
              "      <td>5,000+</td>\n",
              "      <td>5000.0</td>\n",
              "      <td>TRUE</td>\n",
              "      <td>0.0</td>\n",
              "      <td>USD</td>\n",
              "      <td>5.8M</td>\n",
              "      <td>Jun 24, 2017</td>\n",
              "      <td>June 24, 2017</td>\n",
              "      <td>Everyone</td>\n",
              "      <td>False</td>\n",
              "      <td>False</td>\n",
              "      <td>7.0</td>\n",
              "      <td>eniseistudio</td>\n",
              "    </tr>\n",
              "    <tr>\n",
              "      <th>4</th>\n",
              "      <td>Business Administration</td>\n",
              "      <td>Education</td>\n",
              "      <td>4.023256</td>\n",
              "      <td>50,000+</td>\n",
              "      <td>50000.0</td>\n",
              "      <td>TRUE</td>\n",
              "      <td>0.0</td>\n",
              "      <td>USD</td>\n",
              "      <td>5.7M</td>\n",
              "      <td>Jun 13, 2017</td>\n",
              "      <td>October 6, 2017</td>\n",
              "      <td>Everyone</td>\n",
              "      <td>False</td>\n",
              "      <td>False</td>\n",
              "      <td>29.0</td>\n",
              "      <td>eniseistudio</td>\n",
              "    </tr>\n",
              "  </tbody>\n",
              "</table>\n",
              "</div>\n",
              "      <button class=\"colab-df-convert\" onclick=\"convertToInteractive('df-c32161d5-a17d-450c-9cbe-174790865537')\"\n",
              "              title=\"Convert this dataframe to an interactive table.\"\n",
              "              style=\"display:none;\">\n",
              "        \n",
              "  <svg xmlns=\"http://www.w3.org/2000/svg\" height=\"24px\"viewBox=\"0 0 24 24\"\n",
              "       width=\"24px\">\n",
              "    <path d=\"M0 0h24v24H0V0z\" fill=\"none\"/>\n",
              "    <path d=\"M18.56 5.44l.94 2.06.94-2.06 2.06-.94-2.06-.94-.94-2.06-.94 2.06-2.06.94zm-11 1L8.5 8.5l.94-2.06 2.06-.94-2.06-.94L8.5 2.5l-.94 2.06-2.06.94zm10 10l.94 2.06.94-2.06 2.06-.94-2.06-.94-.94-2.06-.94 2.06-2.06.94z\"/><path d=\"M17.41 7.96l-1.37-1.37c-.4-.4-.92-.59-1.43-.59-.52 0-1.04.2-1.43.59L10.3 9.45l-7.72 7.72c-.78.78-.78 2.05 0 2.83L4 21.41c.39.39.9.59 1.41.59.51 0 1.02-.2 1.41-.59l7.78-7.78 2.81-2.81c.8-.78.8-2.07 0-2.86zM5.41 20L4 18.59l7.72-7.72 1.47 1.35L5.41 20z\"/>\n",
              "  </svg>\n",
              "      </button>\n",
              "      \n",
              "  <style>\n",
              "    .colab-df-container {\n",
              "      display:flex;\n",
              "      flex-wrap:wrap;\n",
              "      gap: 12px;\n",
              "    }\n",
              "\n",
              "    .colab-df-convert {\n",
              "      background-color: #E8F0FE;\n",
              "      border: none;\n",
              "      border-radius: 50%;\n",
              "      cursor: pointer;\n",
              "      display: none;\n",
              "      fill: #1967D2;\n",
              "      height: 32px;\n",
              "      padding: 0 0 0 0;\n",
              "      width: 32px;\n",
              "    }\n",
              "\n",
              "    .colab-df-convert:hover {\n",
              "      background-color: #E2EBFA;\n",
              "      box-shadow: 0px 1px 2px rgba(60, 64, 67, 0.3), 0px 1px 3px 1px rgba(60, 64, 67, 0.15);\n",
              "      fill: #174EA6;\n",
              "    }\n",
              "\n",
              "    [theme=dark] .colab-df-convert {\n",
              "      background-color: #3B4455;\n",
              "      fill: #D2E3FC;\n",
              "    }\n",
              "\n",
              "    [theme=dark] .colab-df-convert:hover {\n",
              "      background-color: #434B5C;\n",
              "      box-shadow: 0px 1px 3px 1px rgba(0, 0, 0, 0.15);\n",
              "      filter: drop-shadow(0px 1px 2px rgba(0, 0, 0, 0.3));\n",
              "      fill: #FFFFFF;\n",
              "    }\n",
              "  </style>\n",
              "\n",
              "      <script>\n",
              "        const buttonEl =\n",
              "          document.querySelector('#df-c32161d5-a17d-450c-9cbe-174790865537 button.colab-df-convert');\n",
              "        buttonEl.style.display =\n",
              "          google.colab.kernel.accessAllowed ? 'block' : 'none';\n",
              "\n",
              "        async function convertToInteractive(key) {\n",
              "          const element = document.querySelector('#df-c32161d5-a17d-450c-9cbe-174790865537');\n",
              "          const dataTable =\n",
              "            await google.colab.kernel.invokeFunction('convertToInteractive',\n",
              "                                                     [key], {});\n",
              "          if (!dataTable) return;\n",
              "\n",
              "          const docLinkHtml = 'Like what you see? Visit the ' +\n",
              "            '<a target=\"_blank\" href=https://colab.research.google.com/notebooks/data_table.ipynb>data table notebook</a>'\n",
              "            + ' to learn more about interactive tables.';\n",
              "          element.innerHTML = '';\n",
              "          dataTable['output_type'] = 'display_data';\n",
              "          await google.colab.output.renderOutput(dataTable, element);\n",
              "          const docLink = document.createElement('div');\n",
              "          docLink.innerHTML = docLinkHtml;\n",
              "          element.appendChild(docLink);\n",
              "        }\n",
              "      </script>\n",
              "    </div>\n",
              "  </div>\n",
              "  "
            ]
          },
          "metadata": {},
          "execution_count": 24
        }
      ],
      "source": [
        "Apps_df2[:5]"
      ]
    },
    {
      "cell_type": "markdown",
      "metadata": {
        "id": "ILel-zPCJu45"
      },
      "source": [
        "## **Changing App size to MB**"
      ]
    },
    {
      "cell_type": "code",
      "execution_count": null,
      "metadata": {
        "id": "HgorznUi-LoG"
      },
      "outputs": [],
      "source": [
        "Apps_df2['Size'] = Apps_df2['Size'].apply(lambda x: str(x).replace('Varies with device', 'NaN') if 'Varies with device' in str(x) else x)\n",
        "Apps_df2['Size'] = Apps_df2['Size'].apply(lambda x: str(x).replace('M', '') if 'M' in str(x) else x)\n",
        "Apps_df2['Size'] = Apps_df2['Size'].apply(lambda x: str(x).replace(',', '') if 'M' in str(x) else x)\n",
        "Apps_df2['Size'] = Apps_df2['Size'].apply(lambda x: float(str(x).replace('K', '')) / 1000 if 'K' in str(x) else x)"
      ]
    },
    {
      "cell_type": "markdown",
      "metadata": {
        "id": "ynMIZMC0Jcw-"
      },
      "source": [
        "## **Changing the size format to dd-mm-yy using pd.to_datedtime**"
      ]
    },
    {
      "cell_type": "code",
      "execution_count": null,
      "metadata": {
        "id": "8lxHdcEOLuNt"
      },
      "outputs": [],
      "source": [
        "Apps_df2['Last update']=pd.to_datetime(Apps_df2[\"Last update\"],errors= 'coerce')"
      ]
    },
    {
      "cell_type": "code",
      "execution_count": null,
      "metadata": {
        "id": "hCs0SipM0l5t"
      },
      "outputs": [],
      "source": [
        "Apps_df2['Released']=pd.to_datetime(Apps_df2[\"Released\"],errors= 'coerce')"
      ]
    },
    {
      "cell_type": "markdown",
      "metadata": {
        "id": "MMQHKajM3wRa"
      },
      "source": [
        "# **Removing '+' sign from the Column 'Installs'**"
      ]
    },
    {
      "cell_type": "code",
      "execution_count": null,
      "metadata": {
        "id": "SD_Z671c3-sI"
      },
      "outputs": [],
      "source": [
        "Apps_df2['Installs'] = Apps_df2['Installs'].replace(r'\\D', '')"
      ]
    },
    {
      "cell_type": "code",
      "execution_count": null,
      "metadata": {
        "colab": {
          "base_uri": "https://localhost:8080/"
        },
        "id": "PJtRxGFLfgEG",
        "outputId": "ef77d14b-4a38-40f0-c0d7-6c683c7fd54b"
      },
      "outputs": [
        {
          "output_type": "execute_result",
          "data": {
            "text/plain": [
              "Released            15331\n",
              "Last update         12085\n",
              "Rating               2812\n",
              "Reviews              2812\n",
              "Free                   92\n",
              "Price                  92\n",
              "Currency               92\n",
              "Installs               91\n",
              "Size                   28\n",
              "Developer              16\n",
              "App Name               13\n",
              "Category               13\n",
              "Minimum Installs       13\n",
              "Content Rating         13\n",
              "In app purchases        0\n",
              "Editor Choice           0\n",
              "dtype: int64"
            ]
          },
          "metadata": {},
          "execution_count": 29
        }
      ],
      "source": [
        "missing_value=Apps_df2.isna().sum().sort_values(ascending=False) # To find the missing values sum in each rows in Descending order \n",
        "missing_value"
      ]
    },
    {
      "cell_type": "markdown",
      "metadata": {
        "id": "3-eaMN4W_uur"
      },
      "source": [
        "# **Dropping all Nan/ None Values for accurate Data visualizastion**"
      ]
    },
    {
      "cell_type": "markdown",
      "metadata": {
        "id": "_gMyFKJ6mEl7"
      },
      "source": [
        "**Since the missing rows are less in numbers compared to the dataset, this will not result in a significant impact on our data, hence are deleting these rows**"
      ]
    },
    {
      "cell_type": "code",
      "execution_count": null,
      "metadata": {
        "colab": {
          "base_uri": "https://localhost:8080/"
        },
        "id": "U4hCFJbw-wW9",
        "outputId": "a586a708-f50f-4271-d15d-d9460180e60a"
      },
      "outputs": [
        {
          "output_type": "execute_result",
          "data": {
            "text/plain": [
              "App Name            0\n",
              "Category            0\n",
              "Rating              0\n",
              "Installs            0\n",
              "Minimum Installs    0\n",
              "Free                0\n",
              "Price               0\n",
              "Currency            0\n",
              "Size                0\n",
              "Released            0\n",
              "Last update         0\n",
              "Content Rating      0\n",
              "In app purchases    0\n",
              "Editor Choice       0\n",
              "Reviews             0\n",
              "Developer           0\n",
              "dtype: int64"
            ]
          },
          "metadata": {},
          "execution_count": 30
        }
      ],
      "source": [
        "# Drop All rows with None/NaN values\n",
        "Apps_df2= Apps_df2[Apps_df2['Free'].notnull()]\n",
        "Apps_df2= Apps_df2[Apps_df2['Price'].notnull()]\n",
        "Apps_df2= Apps_df2[Apps_df2['Rating'].notnull()]\n",
        "Apps_df2= Apps_df2[Apps_df2['Reviews'].notnull()]\n",
        "Apps_df2= Apps_df2[Apps_df2['Last update'].notnull()]\n",
        "Apps_df2= Apps_df2[Apps_df2['Released'].notnull()]\n",
        "Apps_df2= Apps_df2[Apps_df2['Developer'].notnull()]\n",
        "Apps_df2.isna().sum().sort_values(ascending=False)"
      ]
    },
    {
      "cell_type": "code",
      "execution_count": null,
      "metadata": {
        "colab": {
          "base_uri": "https://localhost:8080/"
        },
        "id": "rzoqFqONiVIo",
        "outputId": "801b874d-d3c9-42cb-a9e1-84b47edfc3e1",
        "scrolled": true
      },
      "outputs": [
        {
          "output_type": "execute_result",
          "data": {
            "text/plain": [
              "391598"
            ]
          },
          "metadata": {},
          "execution_count": 31
        }
      ],
      "source": [
        "len(Apps_df2['App Name'].unique()) # To find the total number of Apps which are unique"
      ]
    },
    {
      "cell_type": "code",
      "execution_count": null,
      "metadata": {
        "colab": {
          "base_uri": "https://localhost:8080/"
        },
        "id": "1_ypVYPIAVKO",
        "outputId": "7e76e1ee-5f42-4084-e0fb-f0fc20f255d9"
      },
      "outputs": [
        {
          "output_type": "execute_result",
          "data": {
            "text/plain": [
              "True"
            ]
          },
          "metadata": {},
          "execution_count": 32
        }
      ],
      "source": [
        "boolean = Apps_df2['App Name'].duplicated().any()\n",
        "boolean"
      ]
    },
    {
      "cell_type": "code",
      "execution_count": null,
      "metadata": {
        "colab": {
          "base_uri": "https://localhost:8080/"
        },
        "id": "qJNu3IkCAmua",
        "outputId": "4864a06e-08d4-4af9-893b-f9502cf216b3"
      },
      "outputs": [
        {
          "output_type": "execute_result",
          "data": {
            "text/plain": [
              "Solitaire                                     78\n",
              "Flashlight                                    68\n",
              "Gallery                                       64\n",
              "Music Player                                  56\n",
              "Sudoku                                        55\n",
              "                                              ..\n",
              "BrainwaveX Third Eye Chakra                    1\n",
              "BrainwaveX Focus Pro                           1\n",
              "BrainwaveX Study                               1\n",
              "BrainwaveX Focus                               1\n",
              "Wholesale Clothing Online wholesale7 Store     1\n",
              "Name: App Name, Length: 391598, dtype: int64"
            ]
          },
          "metadata": {},
          "execution_count": 33
        }
      ],
      "source": [
        "Apps_df2['App Name'].value_counts()"
      ]
    },
    {
      "cell_type": "code",
      "execution_count": null,
      "metadata": {
        "colab": {
          "base_uri": "https://localhost:8080/",
          "height": 783
        },
        "id": "BEdMnJP3Bc1b",
        "outputId": "32d63ddd-f0f0-4906-a46e-2a3b6fc9747d"
      },
      "outputs": [
        {
          "output_type": "execute_result",
          "data": {
            "text/plain": [
              "         App Name  Category    Rating     Installs  Minimum Installs  Free  \\\n",
              "8138    Solitaire      Card  4.308056  50,000,000+        50000000.0  TRUE   \n",
              "8714    Solitaire      Card  4.702971     100,000+          100000.0  TRUE   \n",
              "16408   Solitaire      Card  4.356895   1,000,000+         1000000.0  TRUE   \n",
              "16617   Solitaire      Card  4.170125   5,000,000+         5000000.0  TRUE   \n",
              "17979   Solitaire      Card  4.551285   1,000,000+         1000000.0  TRUE   \n",
              "...           ...       ...       ...          ...               ...   ...   \n",
              "353767  Solitaire      Card  4.683168      10,000+           10000.0  TRUE   \n",
              "380544  Solitaire      Card  4.170000      10,000+           10000.0  TRUE   \n",
              "384270  Solitaire  Strategy  4.393940      10,000+           10000.0  TRUE   \n",
              "432908  Solitaire      Card  4.310000     100,000+          100000.0  TRUE   \n",
              "434894  Solitaire      Card  4.600000         100+             100.0  TRUE   \n",
              "\n",
              "        Price Currency Size   Released Last update Content Rating  \\\n",
              "8138      0.0      USD   46 2013-12-26  2021-05-11       Everyone   \n",
              "8714      0.0      USD   35 2020-10-15  2021-04-14       Everyone   \n",
              "16408     0.0      USD  NaN 2015-04-23  2019-09-10       Everyone   \n",
              "16617     0.0      USD   26 2017-05-03  2020-10-15       Everyone   \n",
              "17979     0.0      USD   78 2014-04-22  2021-03-25       Everyone   \n",
              "...       ...      ...  ...        ...         ...            ...   \n",
              "353767    0.0      USD   14 2020-11-20  2021-04-27       Everyone   \n",
              "380544    0.0      USD  NaN 2015-12-12  2017-01-23       Everyone   \n",
              "384270    0.0      USD   16 2019-12-11  2020-01-22       Everyone   \n",
              "432908    0.0      USD  9.2 2016-04-14  2021-04-07       Everyone   \n",
              "434894    0.0      USD   36 2018-02-15  2018-09-01       Everyone   \n",
              "\n",
              "        In app purchases  Editor Choice  Reviews  \\\n",
              "8138               False          False  51546.0   \n",
              "8714                True          False    198.0   \n",
              "16408               True          False   2366.0   \n",
              "16617              False          False   6968.0   \n",
              "17979               True          False  10503.0   \n",
              "...                  ...            ...      ...   \n",
              "353767             False          False     46.0   \n",
              "380544             False          False     49.0   \n",
              "384270             False          False     12.0   \n",
              "432908             False          False    132.0   \n",
              "434894              True          False      2.0   \n",
              "\n",
              "                                   Developer  \n",
              "8138                                   Zynga  \n",
              "8714                              Gamma Play  \n",
              "16408                BlackLight Studio Games  \n",
              "16617   Big Cat Studio - we make brain games  \n",
              "17979                      Green Panda Games  \n",
              "...                                      ...  \n",
              "353767                        foo Game Group  \n",
              "380544                TLCM free apps & games  \n",
              "384270                         Apps Specials  \n",
              "432908                        AppAgency Labs  \n",
              "434894                    Cider Software LLC  \n",
              "\n",
              "[78 rows x 16 columns]"
            ],
            "text/html": [
              "\n",
              "  <div id=\"df-9291a670-9988-4854-8ac9-734de60f9386\">\n",
              "    <div class=\"colab-df-container\">\n",
              "      <div>\n",
              "<style scoped>\n",
              "    .dataframe tbody tr th:only-of-type {\n",
              "        vertical-align: middle;\n",
              "    }\n",
              "\n",
              "    .dataframe tbody tr th {\n",
              "        vertical-align: top;\n",
              "    }\n",
              "\n",
              "    .dataframe thead th {\n",
              "        text-align: right;\n",
              "    }\n",
              "</style>\n",
              "<table border=\"1\" class=\"dataframe\">\n",
              "  <thead>\n",
              "    <tr style=\"text-align: right;\">\n",
              "      <th></th>\n",
              "      <th>App Name</th>\n",
              "      <th>Category</th>\n",
              "      <th>Rating</th>\n",
              "      <th>Installs</th>\n",
              "      <th>Minimum Installs</th>\n",
              "      <th>Free</th>\n",
              "      <th>Price</th>\n",
              "      <th>Currency</th>\n",
              "      <th>Size</th>\n",
              "      <th>Released</th>\n",
              "      <th>Last update</th>\n",
              "      <th>Content Rating</th>\n",
              "      <th>In app purchases</th>\n",
              "      <th>Editor Choice</th>\n",
              "      <th>Reviews</th>\n",
              "      <th>Developer</th>\n",
              "    </tr>\n",
              "  </thead>\n",
              "  <tbody>\n",
              "    <tr>\n",
              "      <th>8138</th>\n",
              "      <td>Solitaire</td>\n",
              "      <td>Card</td>\n",
              "      <td>4.308056</td>\n",
              "      <td>50,000,000+</td>\n",
              "      <td>50000000.0</td>\n",
              "      <td>TRUE</td>\n",
              "      <td>0.0</td>\n",
              "      <td>USD</td>\n",
              "      <td>46</td>\n",
              "      <td>2013-12-26</td>\n",
              "      <td>2021-05-11</td>\n",
              "      <td>Everyone</td>\n",
              "      <td>False</td>\n",
              "      <td>False</td>\n",
              "      <td>51546.0</td>\n",
              "      <td>Zynga</td>\n",
              "    </tr>\n",
              "    <tr>\n",
              "      <th>8714</th>\n",
              "      <td>Solitaire</td>\n",
              "      <td>Card</td>\n",
              "      <td>4.702971</td>\n",
              "      <td>100,000+</td>\n",
              "      <td>100000.0</td>\n",
              "      <td>TRUE</td>\n",
              "      <td>0.0</td>\n",
              "      <td>USD</td>\n",
              "      <td>35</td>\n",
              "      <td>2020-10-15</td>\n",
              "      <td>2021-04-14</td>\n",
              "      <td>Everyone</td>\n",
              "      <td>True</td>\n",
              "      <td>False</td>\n",
              "      <td>198.0</td>\n",
              "      <td>Gamma Play</td>\n",
              "    </tr>\n",
              "    <tr>\n",
              "      <th>16408</th>\n",
              "      <td>Solitaire</td>\n",
              "      <td>Card</td>\n",
              "      <td>4.356895</td>\n",
              "      <td>1,000,000+</td>\n",
              "      <td>1000000.0</td>\n",
              "      <td>TRUE</td>\n",
              "      <td>0.0</td>\n",
              "      <td>USD</td>\n",
              "      <td>NaN</td>\n",
              "      <td>2015-04-23</td>\n",
              "      <td>2019-09-10</td>\n",
              "      <td>Everyone</td>\n",
              "      <td>True</td>\n",
              "      <td>False</td>\n",
              "      <td>2366.0</td>\n",
              "      <td>BlackLight Studio Games</td>\n",
              "    </tr>\n",
              "    <tr>\n",
              "      <th>16617</th>\n",
              "      <td>Solitaire</td>\n",
              "      <td>Card</td>\n",
              "      <td>4.170125</td>\n",
              "      <td>5,000,000+</td>\n",
              "      <td>5000000.0</td>\n",
              "      <td>TRUE</td>\n",
              "      <td>0.0</td>\n",
              "      <td>USD</td>\n",
              "      <td>26</td>\n",
              "      <td>2017-05-03</td>\n",
              "      <td>2020-10-15</td>\n",
              "      <td>Everyone</td>\n",
              "      <td>False</td>\n",
              "      <td>False</td>\n",
              "      <td>6968.0</td>\n",
              "      <td>Big Cat Studio - we make brain games</td>\n",
              "    </tr>\n",
              "    <tr>\n",
              "      <th>17979</th>\n",
              "      <td>Solitaire</td>\n",
              "      <td>Card</td>\n",
              "      <td>4.551285</td>\n",
              "      <td>1,000,000+</td>\n",
              "      <td>1000000.0</td>\n",
              "      <td>TRUE</td>\n",
              "      <td>0.0</td>\n",
              "      <td>USD</td>\n",
              "      <td>78</td>\n",
              "      <td>2014-04-22</td>\n",
              "      <td>2021-03-25</td>\n",
              "      <td>Everyone</td>\n",
              "      <td>True</td>\n",
              "      <td>False</td>\n",
              "      <td>10503.0</td>\n",
              "      <td>Green Panda Games</td>\n",
              "    </tr>\n",
              "    <tr>\n",
              "      <th>...</th>\n",
              "      <td>...</td>\n",
              "      <td>...</td>\n",
              "      <td>...</td>\n",
              "      <td>...</td>\n",
              "      <td>...</td>\n",
              "      <td>...</td>\n",
              "      <td>...</td>\n",
              "      <td>...</td>\n",
              "      <td>...</td>\n",
              "      <td>...</td>\n",
              "      <td>...</td>\n",
              "      <td>...</td>\n",
              "      <td>...</td>\n",
              "      <td>...</td>\n",
              "      <td>...</td>\n",
              "      <td>...</td>\n",
              "    </tr>\n",
              "    <tr>\n",
              "      <th>353767</th>\n",
              "      <td>Solitaire</td>\n",
              "      <td>Card</td>\n",
              "      <td>4.683168</td>\n",
              "      <td>10,000+</td>\n",
              "      <td>10000.0</td>\n",
              "      <td>TRUE</td>\n",
              "      <td>0.0</td>\n",
              "      <td>USD</td>\n",
              "      <td>14</td>\n",
              "      <td>2020-11-20</td>\n",
              "      <td>2021-04-27</td>\n",
              "      <td>Everyone</td>\n",
              "      <td>False</td>\n",
              "      <td>False</td>\n",
              "      <td>46.0</td>\n",
              "      <td>foo Game Group</td>\n",
              "    </tr>\n",
              "    <tr>\n",
              "      <th>380544</th>\n",
              "      <td>Solitaire</td>\n",
              "      <td>Card</td>\n",
              "      <td>4.170000</td>\n",
              "      <td>10,000+</td>\n",
              "      <td>10000.0</td>\n",
              "      <td>TRUE</td>\n",
              "      <td>0.0</td>\n",
              "      <td>USD</td>\n",
              "      <td>NaN</td>\n",
              "      <td>2015-12-12</td>\n",
              "      <td>2017-01-23</td>\n",
              "      <td>Everyone</td>\n",
              "      <td>False</td>\n",
              "      <td>False</td>\n",
              "      <td>49.0</td>\n",
              "      <td>TLCM free apps &amp; games</td>\n",
              "    </tr>\n",
              "    <tr>\n",
              "      <th>384270</th>\n",
              "      <td>Solitaire</td>\n",
              "      <td>Strategy</td>\n",
              "      <td>4.393940</td>\n",
              "      <td>10,000+</td>\n",
              "      <td>10000.0</td>\n",
              "      <td>TRUE</td>\n",
              "      <td>0.0</td>\n",
              "      <td>USD</td>\n",
              "      <td>16</td>\n",
              "      <td>2019-12-11</td>\n",
              "      <td>2020-01-22</td>\n",
              "      <td>Everyone</td>\n",
              "      <td>False</td>\n",
              "      <td>False</td>\n",
              "      <td>12.0</td>\n",
              "      <td>Apps Specials</td>\n",
              "    </tr>\n",
              "    <tr>\n",
              "      <th>432908</th>\n",
              "      <td>Solitaire</td>\n",
              "      <td>Card</td>\n",
              "      <td>4.310000</td>\n",
              "      <td>100,000+</td>\n",
              "      <td>100000.0</td>\n",
              "      <td>TRUE</td>\n",
              "      <td>0.0</td>\n",
              "      <td>USD</td>\n",
              "      <td>9.2</td>\n",
              "      <td>2016-04-14</td>\n",
              "      <td>2021-04-07</td>\n",
              "      <td>Everyone</td>\n",
              "      <td>False</td>\n",
              "      <td>False</td>\n",
              "      <td>132.0</td>\n",
              "      <td>AppAgency Labs</td>\n",
              "    </tr>\n",
              "    <tr>\n",
              "      <th>434894</th>\n",
              "      <td>Solitaire</td>\n",
              "      <td>Card</td>\n",
              "      <td>4.600000</td>\n",
              "      <td>100+</td>\n",
              "      <td>100.0</td>\n",
              "      <td>TRUE</td>\n",
              "      <td>0.0</td>\n",
              "      <td>USD</td>\n",
              "      <td>36</td>\n",
              "      <td>2018-02-15</td>\n",
              "      <td>2018-09-01</td>\n",
              "      <td>Everyone</td>\n",
              "      <td>True</td>\n",
              "      <td>False</td>\n",
              "      <td>2.0</td>\n",
              "      <td>Cider Software LLC</td>\n",
              "    </tr>\n",
              "  </tbody>\n",
              "</table>\n",
              "<p>78 rows × 16 columns</p>\n",
              "</div>\n",
              "      <button class=\"colab-df-convert\" onclick=\"convertToInteractive('df-9291a670-9988-4854-8ac9-734de60f9386')\"\n",
              "              title=\"Convert this dataframe to an interactive table.\"\n",
              "              style=\"display:none;\">\n",
              "        \n",
              "  <svg xmlns=\"http://www.w3.org/2000/svg\" height=\"24px\"viewBox=\"0 0 24 24\"\n",
              "       width=\"24px\">\n",
              "    <path d=\"M0 0h24v24H0V0z\" fill=\"none\"/>\n",
              "    <path d=\"M18.56 5.44l.94 2.06.94-2.06 2.06-.94-2.06-.94-.94-2.06-.94 2.06-2.06.94zm-11 1L8.5 8.5l.94-2.06 2.06-.94-2.06-.94L8.5 2.5l-.94 2.06-2.06.94zm10 10l.94 2.06.94-2.06 2.06-.94-2.06-.94-.94-2.06-.94 2.06-2.06.94z\"/><path d=\"M17.41 7.96l-1.37-1.37c-.4-.4-.92-.59-1.43-.59-.52 0-1.04.2-1.43.59L10.3 9.45l-7.72 7.72c-.78.78-.78 2.05 0 2.83L4 21.41c.39.39.9.59 1.41.59.51 0 1.02-.2 1.41-.59l7.78-7.78 2.81-2.81c.8-.78.8-2.07 0-2.86zM5.41 20L4 18.59l7.72-7.72 1.47 1.35L5.41 20z\"/>\n",
              "  </svg>\n",
              "      </button>\n",
              "      \n",
              "  <style>\n",
              "    .colab-df-container {\n",
              "      display:flex;\n",
              "      flex-wrap:wrap;\n",
              "      gap: 12px;\n",
              "    }\n",
              "\n",
              "    .colab-df-convert {\n",
              "      background-color: #E8F0FE;\n",
              "      border: none;\n",
              "      border-radius: 50%;\n",
              "      cursor: pointer;\n",
              "      display: none;\n",
              "      fill: #1967D2;\n",
              "      height: 32px;\n",
              "      padding: 0 0 0 0;\n",
              "      width: 32px;\n",
              "    }\n",
              "\n",
              "    .colab-df-convert:hover {\n",
              "      background-color: #E2EBFA;\n",
              "      box-shadow: 0px 1px 2px rgba(60, 64, 67, 0.3), 0px 1px 3px 1px rgba(60, 64, 67, 0.15);\n",
              "      fill: #174EA6;\n",
              "    }\n",
              "\n",
              "    [theme=dark] .colab-df-convert {\n",
              "      background-color: #3B4455;\n",
              "      fill: #D2E3FC;\n",
              "    }\n",
              "\n",
              "    [theme=dark] .colab-df-convert:hover {\n",
              "      background-color: #434B5C;\n",
              "      box-shadow: 0px 1px 3px 1px rgba(0, 0, 0, 0.15);\n",
              "      filter: drop-shadow(0px 1px 2px rgba(0, 0, 0, 0.3));\n",
              "      fill: #FFFFFF;\n",
              "    }\n",
              "  </style>\n",
              "\n",
              "      <script>\n",
              "        const buttonEl =\n",
              "          document.querySelector('#df-9291a670-9988-4854-8ac9-734de60f9386 button.colab-df-convert');\n",
              "        buttonEl.style.display =\n",
              "          google.colab.kernel.accessAllowed ? 'block' : 'none';\n",
              "\n",
              "        async function convertToInteractive(key) {\n",
              "          const element = document.querySelector('#df-9291a670-9988-4854-8ac9-734de60f9386');\n",
              "          const dataTable =\n",
              "            await google.colab.kernel.invokeFunction('convertToInteractive',\n",
              "                                                     [key], {});\n",
              "          if (!dataTable) return;\n",
              "\n",
              "          const docLinkHtml = 'Like what you see? Visit the ' +\n",
              "            '<a target=\"_blank\" href=https://colab.research.google.com/notebooks/data_table.ipynb>data table notebook</a>'\n",
              "            + ' to learn more about interactive tables.';\n",
              "          element.innerHTML = '';\n",
              "          dataTable['output_type'] = 'display_data';\n",
              "          await google.colab.output.renderOutput(dataTable, element);\n",
              "          const docLink = document.createElement('div');\n",
              "          docLink.innerHTML = docLinkHtml;\n",
              "          element.appendChild(docLink);\n",
              "        }\n",
              "      </script>\n",
              "    </div>\n",
              "  </div>\n",
              "  "
            ]
          },
          "metadata": {},
          "execution_count": 34
        }
      ],
      "source": [
        "Apps_df2[Apps_df2['App Name']=='Solitaire']"
      ]
    },
    {
      "cell_type": "markdown",
      "metadata": {
        "id": "BdVeki3drjlA"
      },
      "source": [
        "**Removing '+' Symbol from the Column 'Installs'**"
      ]
    },
    {
      "cell_type": "code",
      "execution_count": null,
      "metadata": {
        "colab": {
          "base_uri": "https://localhost:8080/",
          "height": 1613
        },
        "id": "MezPjGNuriTl",
        "outputId": "d6bf0cb7-e9e2-4443-8dc8-37ccb51a9cd3"
      },
      "outputs": [
        {
          "output_type": "execute_result",
          "data": {
            "text/plain": [
              "                                             App Name          Category  \\\n",
              "0                                Logistics Management         Education   \n",
              "1                             Estados Unidos Noticias  News & Magazines   \n",
              "2                                    Dental Assistant         Education   \n",
              "3                                   Medical Assistant         Education   \n",
              "4                             Business Administration         Education   \n",
              "..                                                ...               ...   \n",
              "95                      Teach Your Kids Animal Sounds       Educational   \n",
              "96                                      Vegan Defense          Strategy   \n",
              "97                       Carnevale Maschere e Ricette     Entertainment   \n",
              "98                        La Befana Storie e Leggende     Entertainment   \n",
              "99  Coloring Games: Coloring Book, Painting, Glow ...       Educational   \n",
              "\n",
              "      Rating  Installs  Minimum Installs  Free  Price Currency Size  \\\n",
              "0   4.090909     10000           10000.0  TRUE    0.0      USD  5.8   \n",
              "1   4.000000      1000            1000.0  TRUE    0.0      USD  5.3   \n",
              "2   3.866667     10000           10000.0  TRUE    0.0      USD  5.7   \n",
              "3   4.000000      5000            5000.0  TRUE    0.0      USD  5.8   \n",
              "4   4.023256     50000           50000.0  TRUE    0.0      USD  5.7   \n",
              "..       ...       ...               ...   ...    ...      ...  ...   \n",
              "95  4.250000     10000           10000.0  TRUE    0.0      USD  NaN   \n",
              "96  4.634783     10000           10000.0  TRUE    0.0      USD   11   \n",
              "97  4.140000     10000           10000.0  TRUE    0.0      USD  NaN   \n",
              "98  4.080000     10000           10000.0  TRUE    0.0      USD  NaN   \n",
              "99  4.206793  10000000        10000000.0  TRUE    0.0      USD   39   \n",
              "\n",
              "     Released Last update Content Rating  In app purchases  Editor Choice  \\\n",
              "0  2017-07-19  2017-07-19       Everyone             False          False   \n",
              "1  2017-05-05  2017-05-05       Everyone             False          False   \n",
              "2  2017-07-18  2017-07-18       Everyone             False          False   \n",
              "3  2017-06-24  2017-06-24       Everyone             False          False   \n",
              "4  2017-06-13  2017-10-06       Everyone             False          False   \n",
              "..        ...         ...            ...               ...            ...   \n",
              "95 2015-05-23  2020-06-18       Everyone              True          False   \n",
              "96 2015-03-20  2020-11-03       Everyone              True          False   \n",
              "97 2014-01-26  2020-06-19       Everyone             False          False   \n",
              "98 2013-12-29  2020-06-20       Everyone             False          False   \n",
              "99 2019-11-06  2021-05-25       Everyone             False          False   \n",
              "\n",
              "    Reviews      Developer  \n",
              "0      28.0   eniseistudio  \n",
              "1       3.0   eniseistudio  \n",
              "2       3.0   eniseistudio  \n",
              "3       7.0   eniseistudio  \n",
              "4      29.0   eniseistudio  \n",
              "..      ...            ...  \n",
              "95     23.0    Blion Games  \n",
              "96    222.0    Blion Games  \n",
              "97     14.0    Blion Games  \n",
              "98     28.0    Blion Games  \n",
              "99  11513.0  RV AppStudios  \n",
              "\n",
              "[100 rows x 16 columns]"
            ],
            "text/html": [
              "\n",
              "  <div id=\"df-0972355c-b8c7-4ae1-abab-bd7fa2b7cce8\">\n",
              "    <div class=\"colab-df-container\">\n",
              "      <div>\n",
              "<style scoped>\n",
              "    .dataframe tbody tr th:only-of-type {\n",
              "        vertical-align: middle;\n",
              "    }\n",
              "\n",
              "    .dataframe tbody tr th {\n",
              "        vertical-align: top;\n",
              "    }\n",
              "\n",
              "    .dataframe thead th {\n",
              "        text-align: right;\n",
              "    }\n",
              "</style>\n",
              "<table border=\"1\" class=\"dataframe\">\n",
              "  <thead>\n",
              "    <tr style=\"text-align: right;\">\n",
              "      <th></th>\n",
              "      <th>App Name</th>\n",
              "      <th>Category</th>\n",
              "      <th>Rating</th>\n",
              "      <th>Installs</th>\n",
              "      <th>Minimum Installs</th>\n",
              "      <th>Free</th>\n",
              "      <th>Price</th>\n",
              "      <th>Currency</th>\n",
              "      <th>Size</th>\n",
              "      <th>Released</th>\n",
              "      <th>Last update</th>\n",
              "      <th>Content Rating</th>\n",
              "      <th>In app purchases</th>\n",
              "      <th>Editor Choice</th>\n",
              "      <th>Reviews</th>\n",
              "      <th>Developer</th>\n",
              "    </tr>\n",
              "  </thead>\n",
              "  <tbody>\n",
              "    <tr>\n",
              "      <th>0</th>\n",
              "      <td>Logistics Management</td>\n",
              "      <td>Education</td>\n",
              "      <td>4.090909</td>\n",
              "      <td>10000</td>\n",
              "      <td>10000.0</td>\n",
              "      <td>TRUE</td>\n",
              "      <td>0.0</td>\n",
              "      <td>USD</td>\n",
              "      <td>5.8</td>\n",
              "      <td>2017-07-19</td>\n",
              "      <td>2017-07-19</td>\n",
              "      <td>Everyone</td>\n",
              "      <td>False</td>\n",
              "      <td>False</td>\n",
              "      <td>28.0</td>\n",
              "      <td>eniseistudio</td>\n",
              "    </tr>\n",
              "    <tr>\n",
              "      <th>1</th>\n",
              "      <td>Estados Unidos Noticias</td>\n",
              "      <td>News &amp; Magazines</td>\n",
              "      <td>4.000000</td>\n",
              "      <td>1000</td>\n",
              "      <td>1000.0</td>\n",
              "      <td>TRUE</td>\n",
              "      <td>0.0</td>\n",
              "      <td>USD</td>\n",
              "      <td>5.3</td>\n",
              "      <td>2017-05-05</td>\n",
              "      <td>2017-05-05</td>\n",
              "      <td>Everyone</td>\n",
              "      <td>False</td>\n",
              "      <td>False</td>\n",
              "      <td>3.0</td>\n",
              "      <td>eniseistudio</td>\n",
              "    </tr>\n",
              "    <tr>\n",
              "      <th>2</th>\n",
              "      <td>Dental Assistant</td>\n",
              "      <td>Education</td>\n",
              "      <td>3.866667</td>\n",
              "      <td>10000</td>\n",
              "      <td>10000.0</td>\n",
              "      <td>TRUE</td>\n",
              "      <td>0.0</td>\n",
              "      <td>USD</td>\n",
              "      <td>5.7</td>\n",
              "      <td>2017-07-18</td>\n",
              "      <td>2017-07-18</td>\n",
              "      <td>Everyone</td>\n",
              "      <td>False</td>\n",
              "      <td>False</td>\n",
              "      <td>3.0</td>\n",
              "      <td>eniseistudio</td>\n",
              "    </tr>\n",
              "    <tr>\n",
              "      <th>3</th>\n",
              "      <td>Medical Assistant</td>\n",
              "      <td>Education</td>\n",
              "      <td>4.000000</td>\n",
              "      <td>5000</td>\n",
              "      <td>5000.0</td>\n",
              "      <td>TRUE</td>\n",
              "      <td>0.0</td>\n",
              "      <td>USD</td>\n",
              "      <td>5.8</td>\n",
              "      <td>2017-06-24</td>\n",
              "      <td>2017-06-24</td>\n",
              "      <td>Everyone</td>\n",
              "      <td>False</td>\n",
              "      <td>False</td>\n",
              "      <td>7.0</td>\n",
              "      <td>eniseistudio</td>\n",
              "    </tr>\n",
              "    <tr>\n",
              "      <th>4</th>\n",
              "      <td>Business Administration</td>\n",
              "      <td>Education</td>\n",
              "      <td>4.023256</td>\n",
              "      <td>50000</td>\n",
              "      <td>50000.0</td>\n",
              "      <td>TRUE</td>\n",
              "      <td>0.0</td>\n",
              "      <td>USD</td>\n",
              "      <td>5.7</td>\n",
              "      <td>2017-06-13</td>\n",
              "      <td>2017-10-06</td>\n",
              "      <td>Everyone</td>\n",
              "      <td>False</td>\n",
              "      <td>False</td>\n",
              "      <td>29.0</td>\n",
              "      <td>eniseistudio</td>\n",
              "    </tr>\n",
              "    <tr>\n",
              "      <th>...</th>\n",
              "      <td>...</td>\n",
              "      <td>...</td>\n",
              "      <td>...</td>\n",
              "      <td>...</td>\n",
              "      <td>...</td>\n",
              "      <td>...</td>\n",
              "      <td>...</td>\n",
              "      <td>...</td>\n",
              "      <td>...</td>\n",
              "      <td>...</td>\n",
              "      <td>...</td>\n",
              "      <td>...</td>\n",
              "      <td>...</td>\n",
              "      <td>...</td>\n",
              "      <td>...</td>\n",
              "      <td>...</td>\n",
              "    </tr>\n",
              "    <tr>\n",
              "      <th>95</th>\n",
              "      <td>Teach Your Kids Animal Sounds</td>\n",
              "      <td>Educational</td>\n",
              "      <td>4.250000</td>\n",
              "      <td>10000</td>\n",
              "      <td>10000.0</td>\n",
              "      <td>TRUE</td>\n",
              "      <td>0.0</td>\n",
              "      <td>USD</td>\n",
              "      <td>NaN</td>\n",
              "      <td>2015-05-23</td>\n",
              "      <td>2020-06-18</td>\n",
              "      <td>Everyone</td>\n",
              "      <td>True</td>\n",
              "      <td>False</td>\n",
              "      <td>23.0</td>\n",
              "      <td>Blion Games</td>\n",
              "    </tr>\n",
              "    <tr>\n",
              "      <th>96</th>\n",
              "      <td>Vegan Defense</td>\n",
              "      <td>Strategy</td>\n",
              "      <td>4.634783</td>\n",
              "      <td>10000</td>\n",
              "      <td>10000.0</td>\n",
              "      <td>TRUE</td>\n",
              "      <td>0.0</td>\n",
              "      <td>USD</td>\n",
              "      <td>11</td>\n",
              "      <td>2015-03-20</td>\n",
              "      <td>2020-11-03</td>\n",
              "      <td>Everyone</td>\n",
              "      <td>True</td>\n",
              "      <td>False</td>\n",
              "      <td>222.0</td>\n",
              "      <td>Blion Games</td>\n",
              "    </tr>\n",
              "    <tr>\n",
              "      <th>97</th>\n",
              "      <td>Carnevale Maschere e Ricette</td>\n",
              "      <td>Entertainment</td>\n",
              "      <td>4.140000</td>\n",
              "      <td>10000</td>\n",
              "      <td>10000.0</td>\n",
              "      <td>TRUE</td>\n",
              "      <td>0.0</td>\n",
              "      <td>USD</td>\n",
              "      <td>NaN</td>\n",
              "      <td>2014-01-26</td>\n",
              "      <td>2020-06-19</td>\n",
              "      <td>Everyone</td>\n",
              "      <td>False</td>\n",
              "      <td>False</td>\n",
              "      <td>14.0</td>\n",
              "      <td>Blion Games</td>\n",
              "    </tr>\n",
              "    <tr>\n",
              "      <th>98</th>\n",
              "      <td>La Befana Storie e Leggende</td>\n",
              "      <td>Entertainment</td>\n",
              "      <td>4.080000</td>\n",
              "      <td>10000</td>\n",
              "      <td>10000.0</td>\n",
              "      <td>TRUE</td>\n",
              "      <td>0.0</td>\n",
              "      <td>USD</td>\n",
              "      <td>NaN</td>\n",
              "      <td>2013-12-29</td>\n",
              "      <td>2020-06-20</td>\n",
              "      <td>Everyone</td>\n",
              "      <td>False</td>\n",
              "      <td>False</td>\n",
              "      <td>28.0</td>\n",
              "      <td>Blion Games</td>\n",
              "    </tr>\n",
              "    <tr>\n",
              "      <th>99</th>\n",
              "      <td>Coloring Games: Coloring Book, Painting, Glow ...</td>\n",
              "      <td>Educational</td>\n",
              "      <td>4.206793</td>\n",
              "      <td>10000000</td>\n",
              "      <td>10000000.0</td>\n",
              "      <td>TRUE</td>\n",
              "      <td>0.0</td>\n",
              "      <td>USD</td>\n",
              "      <td>39</td>\n",
              "      <td>2019-11-06</td>\n",
              "      <td>2021-05-25</td>\n",
              "      <td>Everyone</td>\n",
              "      <td>False</td>\n",
              "      <td>False</td>\n",
              "      <td>11513.0</td>\n",
              "      <td>RV AppStudios</td>\n",
              "    </tr>\n",
              "  </tbody>\n",
              "</table>\n",
              "<p>100 rows × 16 columns</p>\n",
              "</div>\n",
              "      <button class=\"colab-df-convert\" onclick=\"convertToInteractive('df-0972355c-b8c7-4ae1-abab-bd7fa2b7cce8')\"\n",
              "              title=\"Convert this dataframe to an interactive table.\"\n",
              "              style=\"display:none;\">\n",
              "        \n",
              "  <svg xmlns=\"http://www.w3.org/2000/svg\" height=\"24px\"viewBox=\"0 0 24 24\"\n",
              "       width=\"24px\">\n",
              "    <path d=\"M0 0h24v24H0V0z\" fill=\"none\"/>\n",
              "    <path d=\"M18.56 5.44l.94 2.06.94-2.06 2.06-.94-2.06-.94-.94-2.06-.94 2.06-2.06.94zm-11 1L8.5 8.5l.94-2.06 2.06-.94-2.06-.94L8.5 2.5l-.94 2.06-2.06.94zm10 10l.94 2.06.94-2.06 2.06-.94-2.06-.94-.94-2.06-.94 2.06-2.06.94z\"/><path d=\"M17.41 7.96l-1.37-1.37c-.4-.4-.92-.59-1.43-.59-.52 0-1.04.2-1.43.59L10.3 9.45l-7.72 7.72c-.78.78-.78 2.05 0 2.83L4 21.41c.39.39.9.59 1.41.59.51 0 1.02-.2 1.41-.59l7.78-7.78 2.81-2.81c.8-.78.8-2.07 0-2.86zM5.41 20L4 18.59l7.72-7.72 1.47 1.35L5.41 20z\"/>\n",
              "  </svg>\n",
              "      </button>\n",
              "      \n",
              "  <style>\n",
              "    .colab-df-container {\n",
              "      display:flex;\n",
              "      flex-wrap:wrap;\n",
              "      gap: 12px;\n",
              "    }\n",
              "\n",
              "    .colab-df-convert {\n",
              "      background-color: #E8F0FE;\n",
              "      border: none;\n",
              "      border-radius: 50%;\n",
              "      cursor: pointer;\n",
              "      display: none;\n",
              "      fill: #1967D2;\n",
              "      height: 32px;\n",
              "      padding: 0 0 0 0;\n",
              "      width: 32px;\n",
              "    }\n",
              "\n",
              "    .colab-df-convert:hover {\n",
              "      background-color: #E2EBFA;\n",
              "      box-shadow: 0px 1px 2px rgba(60, 64, 67, 0.3), 0px 1px 3px 1px rgba(60, 64, 67, 0.15);\n",
              "      fill: #174EA6;\n",
              "    }\n",
              "\n",
              "    [theme=dark] .colab-df-convert {\n",
              "      background-color: #3B4455;\n",
              "      fill: #D2E3FC;\n",
              "    }\n",
              "\n",
              "    [theme=dark] .colab-df-convert:hover {\n",
              "      background-color: #434B5C;\n",
              "      box-shadow: 0px 1px 3px 1px rgba(0, 0, 0, 0.15);\n",
              "      filter: drop-shadow(0px 1px 2px rgba(0, 0, 0, 0.3));\n",
              "      fill: #FFFFFF;\n",
              "    }\n",
              "  </style>\n",
              "\n",
              "      <script>\n",
              "        const buttonEl =\n",
              "          document.querySelector('#df-0972355c-b8c7-4ae1-abab-bd7fa2b7cce8 button.colab-df-convert');\n",
              "        buttonEl.style.display =\n",
              "          google.colab.kernel.accessAllowed ? 'block' : 'none';\n",
              "\n",
              "        async function convertToInteractive(key) {\n",
              "          const element = document.querySelector('#df-0972355c-b8c7-4ae1-abab-bd7fa2b7cce8');\n",
              "          const dataTable =\n",
              "            await google.colab.kernel.invokeFunction('convertToInteractive',\n",
              "                                                     [key], {});\n",
              "          if (!dataTable) return;\n",
              "\n",
              "          const docLinkHtml = 'Like what you see? Visit the ' +\n",
              "            '<a target=\"_blank\" href=https://colab.research.google.com/notebooks/data_table.ipynb>data table notebook</a>'\n",
              "            + ' to learn more about interactive tables.';\n",
              "          element.innerHTML = '';\n",
              "          dataTable['output_type'] = 'display_data';\n",
              "          await google.colab.output.renderOutput(dataTable, element);\n",
              "          const docLink = document.createElement('div');\n",
              "          docLink.innerHTML = docLinkHtml;\n",
              "          element.appendChild(docLink);\n",
              "        }\n",
              "      </script>\n",
              "    </div>\n",
              "  </div>\n",
              "  "
            ]
          },
          "metadata": {},
          "execution_count": 35
        }
      ],
      "source": [
        "Apps_df2['Installs'] = Apps_df2['Installs'].map(lambda x: x.rstrip('+'))\n",
        "Apps_df2['Installs'] = pd.to_numeric(Apps_df2['Installs'].str.replace(',',''))\n",
        "Apps_df2[:100]\n"
      ]
    },
    {
      "cell_type": "markdown",
      "metadata": {
        "heading_collapsed": true,
        "id": "zgPdmyh5U51u"
      },
      "source": [
        "### __3. EXPLORATORY DATA ANALYSIS AND VISUALIZATION__"
      ]
    },
    {
      "cell_type": "markdown",
      "metadata": {
        "id": "bmXso-Jm-al3"
      },
      "source": [
        "# **Descriptive Statistics**"
      ]
    },
    {
      "cell_type": "code",
      "execution_count": null,
      "metadata": {
        "colab": {
          "base_uri": "https://localhost:8080/",
          "height": 300
        },
        "id": "8tra13q-9yMq",
        "outputId": "0c7f80da-6542-41e1-d259-11d7f84ce7cf"
      },
      "outputs": [
        {
          "output_type": "execute_result",
          "data": {
            "text/plain": [
              "              Rating      Installs  Minimum Installs          Price  \\\n",
              "count  435312.000000  4.353120e+05      4.353120e+05  435312.000000   \n",
              "mean        3.000458  8.177479e+05      8.177479e+05       0.313957   \n",
              "std         1.867864  2.972976e+07      2.972976e+07       4.122183   \n",
              "min         0.000000  0.000000e+00      0.000000e+00       0.000000   \n",
              "25%         0.000000  5.000000e+02      5.000000e+02       0.000000   \n",
              "50%         3.923850  5.000000e+03      5.000000e+03       0.000000   \n",
              "75%         4.386789  5.000000e+04      5.000000e+04       0.000000   \n",
              "max         5.000000  5.000000e+09      5.000000e+09     400.000000   \n",
              "\n",
              "            Reviews  \n",
              "count  4.353120e+05  \n",
              "mean   4.942956e+03  \n",
              "std    1.935479e+05  \n",
              "min    0.000000e+00  \n",
              "25%    0.000000e+00  \n",
              "50%    1.600000e+01  \n",
              "75%    1.710000e+02  \n",
              "max    5.237720e+07  "
            ],
            "text/html": [
              "\n",
              "  <div id=\"df-49876a85-6da2-48e9-9270-63afda4112ac\">\n",
              "    <div class=\"colab-df-container\">\n",
              "      <div>\n",
              "<style scoped>\n",
              "    .dataframe tbody tr th:only-of-type {\n",
              "        vertical-align: middle;\n",
              "    }\n",
              "\n",
              "    .dataframe tbody tr th {\n",
              "        vertical-align: top;\n",
              "    }\n",
              "\n",
              "    .dataframe thead th {\n",
              "        text-align: right;\n",
              "    }\n",
              "</style>\n",
              "<table border=\"1\" class=\"dataframe\">\n",
              "  <thead>\n",
              "    <tr style=\"text-align: right;\">\n",
              "      <th></th>\n",
              "      <th>Rating</th>\n",
              "      <th>Installs</th>\n",
              "      <th>Minimum Installs</th>\n",
              "      <th>Price</th>\n",
              "      <th>Reviews</th>\n",
              "    </tr>\n",
              "  </thead>\n",
              "  <tbody>\n",
              "    <tr>\n",
              "      <th>count</th>\n",
              "      <td>435312.000000</td>\n",
              "      <td>4.353120e+05</td>\n",
              "      <td>4.353120e+05</td>\n",
              "      <td>435312.000000</td>\n",
              "      <td>4.353120e+05</td>\n",
              "    </tr>\n",
              "    <tr>\n",
              "      <th>mean</th>\n",
              "      <td>3.000458</td>\n",
              "      <td>8.177479e+05</td>\n",
              "      <td>8.177479e+05</td>\n",
              "      <td>0.313957</td>\n",
              "      <td>4.942956e+03</td>\n",
              "    </tr>\n",
              "    <tr>\n",
              "      <th>std</th>\n",
              "      <td>1.867864</td>\n",
              "      <td>2.972976e+07</td>\n",
              "      <td>2.972976e+07</td>\n",
              "      <td>4.122183</td>\n",
              "      <td>1.935479e+05</td>\n",
              "    </tr>\n",
              "    <tr>\n",
              "      <th>min</th>\n",
              "      <td>0.000000</td>\n",
              "      <td>0.000000e+00</td>\n",
              "      <td>0.000000e+00</td>\n",
              "      <td>0.000000</td>\n",
              "      <td>0.000000e+00</td>\n",
              "    </tr>\n",
              "    <tr>\n",
              "      <th>25%</th>\n",
              "      <td>0.000000</td>\n",
              "      <td>5.000000e+02</td>\n",
              "      <td>5.000000e+02</td>\n",
              "      <td>0.000000</td>\n",
              "      <td>0.000000e+00</td>\n",
              "    </tr>\n",
              "    <tr>\n",
              "      <th>50%</th>\n",
              "      <td>3.923850</td>\n",
              "      <td>5.000000e+03</td>\n",
              "      <td>5.000000e+03</td>\n",
              "      <td>0.000000</td>\n",
              "      <td>1.600000e+01</td>\n",
              "    </tr>\n",
              "    <tr>\n",
              "      <th>75%</th>\n",
              "      <td>4.386789</td>\n",
              "      <td>5.000000e+04</td>\n",
              "      <td>5.000000e+04</td>\n",
              "      <td>0.000000</td>\n",
              "      <td>1.710000e+02</td>\n",
              "    </tr>\n",
              "    <tr>\n",
              "      <th>max</th>\n",
              "      <td>5.000000</td>\n",
              "      <td>5.000000e+09</td>\n",
              "      <td>5.000000e+09</td>\n",
              "      <td>400.000000</td>\n",
              "      <td>5.237720e+07</td>\n",
              "    </tr>\n",
              "  </tbody>\n",
              "</table>\n",
              "</div>\n",
              "      <button class=\"colab-df-convert\" onclick=\"convertToInteractive('df-49876a85-6da2-48e9-9270-63afda4112ac')\"\n",
              "              title=\"Convert this dataframe to an interactive table.\"\n",
              "              style=\"display:none;\">\n",
              "        \n",
              "  <svg xmlns=\"http://www.w3.org/2000/svg\" height=\"24px\"viewBox=\"0 0 24 24\"\n",
              "       width=\"24px\">\n",
              "    <path d=\"M0 0h24v24H0V0z\" fill=\"none\"/>\n",
              "    <path d=\"M18.56 5.44l.94 2.06.94-2.06 2.06-.94-2.06-.94-.94-2.06-.94 2.06-2.06.94zm-11 1L8.5 8.5l.94-2.06 2.06-.94-2.06-.94L8.5 2.5l-.94 2.06-2.06.94zm10 10l.94 2.06.94-2.06 2.06-.94-2.06-.94-.94-2.06-.94 2.06-2.06.94z\"/><path d=\"M17.41 7.96l-1.37-1.37c-.4-.4-.92-.59-1.43-.59-.52 0-1.04.2-1.43.59L10.3 9.45l-7.72 7.72c-.78.78-.78 2.05 0 2.83L4 21.41c.39.39.9.59 1.41.59.51 0 1.02-.2 1.41-.59l7.78-7.78 2.81-2.81c.8-.78.8-2.07 0-2.86zM5.41 20L4 18.59l7.72-7.72 1.47 1.35L5.41 20z\"/>\n",
              "  </svg>\n",
              "      </button>\n",
              "      \n",
              "  <style>\n",
              "    .colab-df-container {\n",
              "      display:flex;\n",
              "      flex-wrap:wrap;\n",
              "      gap: 12px;\n",
              "    }\n",
              "\n",
              "    .colab-df-convert {\n",
              "      background-color: #E8F0FE;\n",
              "      border: none;\n",
              "      border-radius: 50%;\n",
              "      cursor: pointer;\n",
              "      display: none;\n",
              "      fill: #1967D2;\n",
              "      height: 32px;\n",
              "      padding: 0 0 0 0;\n",
              "      width: 32px;\n",
              "    }\n",
              "\n",
              "    .colab-df-convert:hover {\n",
              "      background-color: #E2EBFA;\n",
              "      box-shadow: 0px 1px 2px rgba(60, 64, 67, 0.3), 0px 1px 3px 1px rgba(60, 64, 67, 0.15);\n",
              "      fill: #174EA6;\n",
              "    }\n",
              "\n",
              "    [theme=dark] .colab-df-convert {\n",
              "      background-color: #3B4455;\n",
              "      fill: #D2E3FC;\n",
              "    }\n",
              "\n",
              "    [theme=dark] .colab-df-convert:hover {\n",
              "      background-color: #434B5C;\n",
              "      box-shadow: 0px 1px 3px 1px rgba(0, 0, 0, 0.15);\n",
              "      filter: drop-shadow(0px 1px 2px rgba(0, 0, 0, 0.3));\n",
              "      fill: #FFFFFF;\n",
              "    }\n",
              "  </style>\n",
              "\n",
              "      <script>\n",
              "        const buttonEl =\n",
              "          document.querySelector('#df-49876a85-6da2-48e9-9270-63afda4112ac button.colab-df-convert');\n",
              "        buttonEl.style.display =\n",
              "          google.colab.kernel.accessAllowed ? 'block' : 'none';\n",
              "\n",
              "        async function convertToInteractive(key) {\n",
              "          const element = document.querySelector('#df-49876a85-6da2-48e9-9270-63afda4112ac');\n",
              "          const dataTable =\n",
              "            await google.colab.kernel.invokeFunction('convertToInteractive',\n",
              "                                                     [key], {});\n",
              "          if (!dataTable) return;\n",
              "\n",
              "          const docLinkHtml = 'Like what you see? Visit the ' +\n",
              "            '<a target=\"_blank\" href=https://colab.research.google.com/notebooks/data_table.ipynb>data table notebook</a>'\n",
              "            + ' to learn more about interactive tables.';\n",
              "          element.innerHTML = '';\n",
              "          dataTable['output_type'] = 'display_data';\n",
              "          await google.colab.output.renderOutput(dataTable, element);\n",
              "          const docLink = document.createElement('div');\n",
              "          docLink.innerHTML = docLinkHtml;\n",
              "          element.appendChild(docLink);\n",
              "        }\n",
              "      </script>\n",
              "    </div>\n",
              "  </div>\n",
              "  "
            ]
          },
          "metadata": {},
          "execution_count": 36
        }
      ],
      "source": [
        "Apps_df2.describe()"
      ]
    },
    {
      "cell_type": "code",
      "execution_count": null,
      "metadata": {
        "colab": {
          "base_uri": "https://localhost:8080/",
          "height": 833
        },
        "id": "NWqUxhteqCiB",
        "outputId": "d39215ff-616c-4d7b-d8ae-0e25b65b09cc"
      },
      "outputs": [
        {
          "output_type": "execute_result",
          "data": {
            "text/plain": [
              "             Category  Count\n",
              "0           Education  45528\n",
              "1               Tools  32797\n",
              "2     Personalization  29227\n",
              "3   Books & Reference  28914\n",
              "4       Music & Audio  27798\n",
              "5       Entertainment  21579\n",
              "6           Lifestyle  18254\n",
              "7            Business  15807\n",
              "8        Productivity  14136\n",
              "9    Health & Fitness  13691\n",
              "10             Puzzle  13119\n",
              "11     Travel & Local  11833\n",
              "12        Photography  10368\n",
              "13             Casual  10221\n",
              "14             Sports   9739\n",
              "15            Finance   8837\n",
              "16         Simulation   8524\n",
              "17   News & Magazines   8044\n",
              "18             Arcade   7842\n",
              "19           Shopping   7518\n",
              "20       Food & Drink   7513\n",
              "21      Communication   6881\n",
              "22             Action   6185\n",
              "23        Educational   6007\n",
              "24             Social   5614"
            ],
            "text/html": [
              "\n",
              "  <div id=\"df-9b1d3820-6e76-44bd-9a0d-3033b657b773\">\n",
              "    <div class=\"colab-df-container\">\n",
              "      <div>\n",
              "<style scoped>\n",
              "    .dataframe tbody tr th:only-of-type {\n",
              "        vertical-align: middle;\n",
              "    }\n",
              "\n",
              "    .dataframe tbody tr th {\n",
              "        vertical-align: top;\n",
              "    }\n",
              "\n",
              "    .dataframe thead th {\n",
              "        text-align: right;\n",
              "    }\n",
              "</style>\n",
              "<table border=\"1\" class=\"dataframe\">\n",
              "  <thead>\n",
              "    <tr style=\"text-align: right;\">\n",
              "      <th></th>\n",
              "      <th>Category</th>\n",
              "      <th>Count</th>\n",
              "    </tr>\n",
              "  </thead>\n",
              "  <tbody>\n",
              "    <tr>\n",
              "      <th>0</th>\n",
              "      <td>Education</td>\n",
              "      <td>45528</td>\n",
              "    </tr>\n",
              "    <tr>\n",
              "      <th>1</th>\n",
              "      <td>Tools</td>\n",
              "      <td>32797</td>\n",
              "    </tr>\n",
              "    <tr>\n",
              "      <th>2</th>\n",
              "      <td>Personalization</td>\n",
              "      <td>29227</td>\n",
              "    </tr>\n",
              "    <tr>\n",
              "      <th>3</th>\n",
              "      <td>Books &amp; Reference</td>\n",
              "      <td>28914</td>\n",
              "    </tr>\n",
              "    <tr>\n",
              "      <th>4</th>\n",
              "      <td>Music &amp; Audio</td>\n",
              "      <td>27798</td>\n",
              "    </tr>\n",
              "    <tr>\n",
              "      <th>5</th>\n",
              "      <td>Entertainment</td>\n",
              "      <td>21579</td>\n",
              "    </tr>\n",
              "    <tr>\n",
              "      <th>6</th>\n",
              "      <td>Lifestyle</td>\n",
              "      <td>18254</td>\n",
              "    </tr>\n",
              "    <tr>\n",
              "      <th>7</th>\n",
              "      <td>Business</td>\n",
              "      <td>15807</td>\n",
              "    </tr>\n",
              "    <tr>\n",
              "      <th>8</th>\n",
              "      <td>Productivity</td>\n",
              "      <td>14136</td>\n",
              "    </tr>\n",
              "    <tr>\n",
              "      <th>9</th>\n",
              "      <td>Health &amp; Fitness</td>\n",
              "      <td>13691</td>\n",
              "    </tr>\n",
              "    <tr>\n",
              "      <th>10</th>\n",
              "      <td>Puzzle</td>\n",
              "      <td>13119</td>\n",
              "    </tr>\n",
              "    <tr>\n",
              "      <th>11</th>\n",
              "      <td>Travel &amp; Local</td>\n",
              "      <td>11833</td>\n",
              "    </tr>\n",
              "    <tr>\n",
              "      <th>12</th>\n",
              "      <td>Photography</td>\n",
              "      <td>10368</td>\n",
              "    </tr>\n",
              "    <tr>\n",
              "      <th>13</th>\n",
              "      <td>Casual</td>\n",
              "      <td>10221</td>\n",
              "    </tr>\n",
              "    <tr>\n",
              "      <th>14</th>\n",
              "      <td>Sports</td>\n",
              "      <td>9739</td>\n",
              "    </tr>\n",
              "    <tr>\n",
              "      <th>15</th>\n",
              "      <td>Finance</td>\n",
              "      <td>8837</td>\n",
              "    </tr>\n",
              "    <tr>\n",
              "      <th>16</th>\n",
              "      <td>Simulation</td>\n",
              "      <td>8524</td>\n",
              "    </tr>\n",
              "    <tr>\n",
              "      <th>17</th>\n",
              "      <td>News &amp; Magazines</td>\n",
              "      <td>8044</td>\n",
              "    </tr>\n",
              "    <tr>\n",
              "      <th>18</th>\n",
              "      <td>Arcade</td>\n",
              "      <td>7842</td>\n",
              "    </tr>\n",
              "    <tr>\n",
              "      <th>19</th>\n",
              "      <td>Shopping</td>\n",
              "      <td>7518</td>\n",
              "    </tr>\n",
              "    <tr>\n",
              "      <th>20</th>\n",
              "      <td>Food &amp; Drink</td>\n",
              "      <td>7513</td>\n",
              "    </tr>\n",
              "    <tr>\n",
              "      <th>21</th>\n",
              "      <td>Communication</td>\n",
              "      <td>6881</td>\n",
              "    </tr>\n",
              "    <tr>\n",
              "      <th>22</th>\n",
              "      <td>Action</td>\n",
              "      <td>6185</td>\n",
              "    </tr>\n",
              "    <tr>\n",
              "      <th>23</th>\n",
              "      <td>Educational</td>\n",
              "      <td>6007</td>\n",
              "    </tr>\n",
              "    <tr>\n",
              "      <th>24</th>\n",
              "      <td>Social</td>\n",
              "      <td>5614</td>\n",
              "    </tr>\n",
              "  </tbody>\n",
              "</table>\n",
              "</div>\n",
              "      <button class=\"colab-df-convert\" onclick=\"convertToInteractive('df-9b1d3820-6e76-44bd-9a0d-3033b657b773')\"\n",
              "              title=\"Convert this dataframe to an interactive table.\"\n",
              "              style=\"display:none;\">\n",
              "        \n",
              "  <svg xmlns=\"http://www.w3.org/2000/svg\" height=\"24px\"viewBox=\"0 0 24 24\"\n",
              "       width=\"24px\">\n",
              "    <path d=\"M0 0h24v24H0V0z\" fill=\"none\"/>\n",
              "    <path d=\"M18.56 5.44l.94 2.06.94-2.06 2.06-.94-2.06-.94-.94-2.06-.94 2.06-2.06.94zm-11 1L8.5 8.5l.94-2.06 2.06-.94-2.06-.94L8.5 2.5l-.94 2.06-2.06.94zm10 10l.94 2.06.94-2.06 2.06-.94-2.06-.94-.94-2.06-.94 2.06-2.06.94z\"/><path d=\"M17.41 7.96l-1.37-1.37c-.4-.4-.92-.59-1.43-.59-.52 0-1.04.2-1.43.59L10.3 9.45l-7.72 7.72c-.78.78-.78 2.05 0 2.83L4 21.41c.39.39.9.59 1.41.59.51 0 1.02-.2 1.41-.59l7.78-7.78 2.81-2.81c.8-.78.8-2.07 0-2.86zM5.41 20L4 18.59l7.72-7.72 1.47 1.35L5.41 20z\"/>\n",
              "  </svg>\n",
              "      </button>\n",
              "      \n",
              "  <style>\n",
              "    .colab-df-container {\n",
              "      display:flex;\n",
              "      flex-wrap:wrap;\n",
              "      gap: 12px;\n",
              "    }\n",
              "\n",
              "    .colab-df-convert {\n",
              "      background-color: #E8F0FE;\n",
              "      border: none;\n",
              "      border-radius: 50%;\n",
              "      cursor: pointer;\n",
              "      display: none;\n",
              "      fill: #1967D2;\n",
              "      height: 32px;\n",
              "      padding: 0 0 0 0;\n",
              "      width: 32px;\n",
              "    }\n",
              "\n",
              "    .colab-df-convert:hover {\n",
              "      background-color: #E2EBFA;\n",
              "      box-shadow: 0px 1px 2px rgba(60, 64, 67, 0.3), 0px 1px 3px 1px rgba(60, 64, 67, 0.15);\n",
              "      fill: #174EA6;\n",
              "    }\n",
              "\n",
              "    [theme=dark] .colab-df-convert {\n",
              "      background-color: #3B4455;\n",
              "      fill: #D2E3FC;\n",
              "    }\n",
              "\n",
              "    [theme=dark] .colab-df-convert:hover {\n",
              "      background-color: #434B5C;\n",
              "      box-shadow: 0px 1px 3px 1px rgba(0, 0, 0, 0.15);\n",
              "      filter: drop-shadow(0px 1px 2px rgba(0, 0, 0, 0.3));\n",
              "      fill: #FFFFFF;\n",
              "    }\n",
              "  </style>\n",
              "\n",
              "      <script>\n",
              "        const buttonEl =\n",
              "          document.querySelector('#df-9b1d3820-6e76-44bd-9a0d-3033b657b773 button.colab-df-convert');\n",
              "        buttonEl.style.display =\n",
              "          google.colab.kernel.accessAllowed ? 'block' : 'none';\n",
              "\n",
              "        async function convertToInteractive(key) {\n",
              "          const element = document.querySelector('#df-9b1d3820-6e76-44bd-9a0d-3033b657b773');\n",
              "          const dataTable =\n",
              "            await google.colab.kernel.invokeFunction('convertToInteractive',\n",
              "                                                     [key], {});\n",
              "          if (!dataTable) return;\n",
              "\n",
              "          const docLinkHtml = 'Like what you see? Visit the ' +\n",
              "            '<a target=\"_blank\" href=https://colab.research.google.com/notebooks/data_table.ipynb>data table notebook</a>'\n",
              "            + ' to learn more about interactive tables.';\n",
              "          element.innerHTML = '';\n",
              "          dataTable['output_type'] = 'display_data';\n",
              "          await google.colab.output.renderOutput(dataTable, element);\n",
              "          const docLink = document.createElement('div');\n",
              "          docLink.innerHTML = docLinkHtml;\n",
              "          element.appendChild(docLink);\n",
              "        }\n",
              "      </script>\n",
              "    </div>\n",
              "  </div>\n",
              "  "
            ]
          },
          "metadata": {},
          "execution_count": 40
        }
      ],
      "source": [
        "Apps_Category= Apps_df2.Category.value_counts().sort_values(ascending=False).reset_index().rename(columns={'Category':'Count','index':'Category'})\n",
        "Apps_Category[:25]"
      ]
    },
    {
      "cell_type": "markdown",
      "metadata": {
        "id": "v1FVgVBguL2l"
      },
      "source": [
        "## 1. **What are the Top 25 App Categories in the Google Play Store according to the App count**"
      ]
    },
    {
      "cell_type": "markdown",
      "metadata": {
        "id": "kV_htUMMU51v"
      },
      "source": [
        "**Ploting a Histogram to find the Top 25 App Category with more App counts** "
      ]
    },
    {
      "cell_type": "markdown",
      "metadata": {
        "id": "756Q66waouRh"
      },
      "source": [
        "**Setting up the parameters for the plots**"
      ]
    },
    {
      "cell_type": "code",
      "execution_count": null,
      "metadata": {
        "colab": {
          "base_uri": "https://localhost:8080/",
          "height": 767
        },
        "id": "VTYSkOSlETgw",
        "outputId": "4c41eed9-934b-4ecb-9bdf-dae15305c43f"
      },
      "outputs": [
        {
          "output_type": "display_data",
          "data": {
            "text/html": [
              "<html>\n",
              "<head><meta charset=\"utf-8\" /></head>\n",
              "<body>\n",
              "    <div>            <script src=\"https://cdnjs.cloudflare.com/ajax/libs/mathjax/2.7.5/MathJax.js?config=TeX-AMS-MML_SVG\"></script><script type=\"text/javascript\">if (window.MathJax && window.MathJax.Hub && window.MathJax.Hub.Config) {window.MathJax.Hub.Config({SVG: {font: \"STIX-Web\"}});}</script>                <script type=\"text/javascript\">window.PlotlyConfig = {MathJaxConfig: 'local'};</script>\n",
              "        <script src=\"https://cdn.plot.ly/plotly-2.17.1.min.js\"></script>                <div id=\"ce9b5c08-756f-4f1c-8cea-a19f2e667abb\" class=\"plotly-graph-div\" style=\"height:750px; width:900px;\"></div>            <script type=\"text/javascript\">                                    window.PLOTLYENV=window.PLOTLYENV || {};                                    if (document.getElementById(\"ce9b5c08-756f-4f1c-8cea-a19f2e667abb\")) {                    Plotly.newPlot(                        \"ce9b5c08-756f-4f1c-8cea-a19f2e667abb\",                        [{\"alignmentgroup\":\"True\",\"hovertemplate\":\"Count=%{marker.color}<br>Category=%{y}<extra></extra>\",\"legendgroup\":\"\",\"marker\":{\"color\":[45528,32797,29227,28914,27798,21579,18254,15807,14136,13691,13119,11833,10368,10221,9739,8837,8524,8044,7842,7518,7513,6881,6185,6007,5614],\"coloraxis\":\"coloraxis\",\"pattern\":{\"shape\":\"\"}},\"name\":\"\",\"offsetgroup\":\"\",\"orientation\":\"h\",\"showlegend\":false,\"textposition\":\"auto\",\"x\":[45528,32797,29227,28914,27798,21579,18254,15807,14136,13691,13119,11833,10368,10221,9739,8837,8524,8044,7842,7518,7513,6881,6185,6007,5614],\"xaxis\":\"x\",\"y\":[\"Education\",\"Tools\",\"Personalization\",\"Books & Reference\",\"Music & Audio\",\"Entertainment\",\"Lifestyle\",\"Business\",\"Productivity\",\"Health & Fitness\",\"Puzzle\",\"Travel & Local\",\"Photography\",\"Casual\",\"Sports\",\"Finance\",\"Simulation\",\"News & Magazines\",\"Arcade\",\"Shopping\",\"Food & Drink\",\"Communication\",\"Action\",\"Educational\",\"Social\"],\"yaxis\":\"y\",\"type\":\"bar\"}],                        {\"template\":{\"data\":{\"histogram2dcontour\":[{\"type\":\"histogram2dcontour\",\"colorbar\":{\"outlinewidth\":0,\"ticks\":\"\"},\"colorscale\":[[0.0,\"#0d0887\"],[0.1111111111111111,\"#46039f\"],[0.2222222222222222,\"#7201a8\"],[0.3333333333333333,\"#9c179e\"],[0.4444444444444444,\"#bd3786\"],[0.5555555555555556,\"#d8576b\"],[0.6666666666666666,\"#ed7953\"],[0.7777777777777778,\"#fb9f3a\"],[0.8888888888888888,\"#fdca26\"],[1.0,\"#f0f921\"]]}],\"choropleth\":[{\"type\":\"choropleth\",\"colorbar\":{\"outlinewidth\":0,\"ticks\":\"\"}}],\"histogram2d\":[{\"type\":\"histogram2d\",\"colorbar\":{\"outlinewidth\":0,\"ticks\":\"\"},\"colorscale\":[[0.0,\"#0d0887\"],[0.1111111111111111,\"#46039f\"],[0.2222222222222222,\"#7201a8\"],[0.3333333333333333,\"#9c179e\"],[0.4444444444444444,\"#bd3786\"],[0.5555555555555556,\"#d8576b\"],[0.6666666666666666,\"#ed7953\"],[0.7777777777777778,\"#fb9f3a\"],[0.8888888888888888,\"#fdca26\"],[1.0,\"#f0f921\"]]}],\"heatmap\":[{\"type\":\"heatmap\",\"colorbar\":{\"outlinewidth\":0,\"ticks\":\"\"},\"colorscale\":[[0.0,\"#0d0887\"],[0.1111111111111111,\"#46039f\"],[0.2222222222222222,\"#7201a8\"],[0.3333333333333333,\"#9c179e\"],[0.4444444444444444,\"#bd3786\"],[0.5555555555555556,\"#d8576b\"],[0.6666666666666666,\"#ed7953\"],[0.7777777777777778,\"#fb9f3a\"],[0.8888888888888888,\"#fdca26\"],[1.0,\"#f0f921\"]]}],\"heatmapgl\":[{\"type\":\"heatmapgl\",\"colorbar\":{\"outlinewidth\":0,\"ticks\":\"\"},\"colorscale\":[[0.0,\"#0d0887\"],[0.1111111111111111,\"#46039f\"],[0.2222222222222222,\"#7201a8\"],[0.3333333333333333,\"#9c179e\"],[0.4444444444444444,\"#bd3786\"],[0.5555555555555556,\"#d8576b\"],[0.6666666666666666,\"#ed7953\"],[0.7777777777777778,\"#fb9f3a\"],[0.8888888888888888,\"#fdca26\"],[1.0,\"#f0f921\"]]}],\"contourcarpet\":[{\"type\":\"contourcarpet\",\"colorbar\":{\"outlinewidth\":0,\"ticks\":\"\"}}],\"contour\":[{\"type\":\"contour\",\"colorbar\":{\"outlinewidth\":0,\"ticks\":\"\"},\"colorscale\":[[0.0,\"#0d0887\"],[0.1111111111111111,\"#46039f\"],[0.2222222222222222,\"#7201a8\"],[0.3333333333333333,\"#9c179e\"],[0.4444444444444444,\"#bd3786\"],[0.5555555555555556,\"#d8576b\"],[0.6666666666666666,\"#ed7953\"],[0.7777777777777778,\"#fb9f3a\"],[0.8888888888888888,\"#fdca26\"],[1.0,\"#f0f921\"]]}],\"surface\":[{\"type\":\"surface\",\"colorbar\":{\"outlinewidth\":0,\"ticks\":\"\"},\"colorscale\":[[0.0,\"#0d0887\"],[0.1111111111111111,\"#46039f\"],[0.2222222222222222,\"#7201a8\"],[0.3333333333333333,\"#9c179e\"],[0.4444444444444444,\"#bd3786\"],[0.5555555555555556,\"#d8576b\"],[0.6666666666666666,\"#ed7953\"],[0.7777777777777778,\"#fb9f3a\"],[0.8888888888888888,\"#fdca26\"],[1.0,\"#f0f921\"]]}],\"mesh3d\":[{\"type\":\"mesh3d\",\"colorbar\":{\"outlinewidth\":0,\"ticks\":\"\"}}],\"scatter\":[{\"fillpattern\":{\"fillmode\":\"overlay\",\"size\":10,\"solidity\":0.2},\"type\":\"scatter\"}],\"parcoords\":[{\"type\":\"parcoords\",\"line\":{\"colorbar\":{\"outlinewidth\":0,\"ticks\":\"\"}}}],\"scatterpolargl\":[{\"type\":\"scatterpolargl\",\"marker\":{\"colorbar\":{\"outlinewidth\":0,\"ticks\":\"\"}}}],\"bar\":[{\"error_x\":{\"color\":\"#2a3f5f\"},\"error_y\":{\"color\":\"#2a3f5f\"},\"marker\":{\"line\":{\"color\":\"#E5ECF6\",\"width\":0.5},\"pattern\":{\"fillmode\":\"overlay\",\"size\":10,\"solidity\":0.2}},\"type\":\"bar\"}],\"scattergeo\":[{\"type\":\"scattergeo\",\"marker\":{\"colorbar\":{\"outlinewidth\":0,\"ticks\":\"\"}}}],\"scatterpolar\":[{\"type\":\"scatterpolar\",\"marker\":{\"colorbar\":{\"outlinewidth\":0,\"ticks\":\"\"}}}],\"histogram\":[{\"marker\":{\"pattern\":{\"fillmode\":\"overlay\",\"size\":10,\"solidity\":0.2}},\"type\":\"histogram\"}],\"scattergl\":[{\"type\":\"scattergl\",\"marker\":{\"colorbar\":{\"outlinewidth\":0,\"ticks\":\"\"}}}],\"scatter3d\":[{\"type\":\"scatter3d\",\"line\":{\"colorbar\":{\"outlinewidth\":0,\"ticks\":\"\"}},\"marker\":{\"colorbar\":{\"outlinewidth\":0,\"ticks\":\"\"}}}],\"scattermapbox\":[{\"type\":\"scattermapbox\",\"marker\":{\"colorbar\":{\"outlinewidth\":0,\"ticks\":\"\"}}}],\"scatterternary\":[{\"type\":\"scatterternary\",\"marker\":{\"colorbar\":{\"outlinewidth\":0,\"ticks\":\"\"}}}],\"scattercarpet\":[{\"type\":\"scattercarpet\",\"marker\":{\"colorbar\":{\"outlinewidth\":0,\"ticks\":\"\"}}}],\"carpet\":[{\"aaxis\":{\"endlinecolor\":\"#2a3f5f\",\"gridcolor\":\"white\",\"linecolor\":\"white\",\"minorgridcolor\":\"white\",\"startlinecolor\":\"#2a3f5f\"},\"baxis\":{\"endlinecolor\":\"#2a3f5f\",\"gridcolor\":\"white\",\"linecolor\":\"white\",\"minorgridcolor\":\"white\",\"startlinecolor\":\"#2a3f5f\"},\"type\":\"carpet\"}],\"table\":[{\"cells\":{\"fill\":{\"color\":\"#EBF0F8\"},\"line\":{\"color\":\"white\"}},\"header\":{\"fill\":{\"color\":\"#C8D4E3\"},\"line\":{\"color\":\"white\"}},\"type\":\"table\"}],\"barpolar\":[{\"marker\":{\"line\":{\"color\":\"#E5ECF6\",\"width\":0.5},\"pattern\":{\"fillmode\":\"overlay\",\"size\":10,\"solidity\":0.2}},\"type\":\"barpolar\"}],\"pie\":[{\"automargin\":true,\"type\":\"pie\"}]},\"layout\":{\"autotypenumbers\":\"strict\",\"colorway\":[\"#636efa\",\"#EF553B\",\"#00cc96\",\"#ab63fa\",\"#FFA15A\",\"#19d3f3\",\"#FF6692\",\"#B6E880\",\"#FF97FF\",\"#FECB52\"],\"font\":{\"color\":\"#2a3f5f\"},\"hovermode\":\"closest\",\"hoverlabel\":{\"align\":\"left\"},\"paper_bgcolor\":\"white\",\"plot_bgcolor\":\"#E5ECF6\",\"polar\":{\"bgcolor\":\"#E5ECF6\",\"angularaxis\":{\"gridcolor\":\"white\",\"linecolor\":\"white\",\"ticks\":\"\"},\"radialaxis\":{\"gridcolor\":\"white\",\"linecolor\":\"white\",\"ticks\":\"\"}},\"ternary\":{\"bgcolor\":\"#E5ECF6\",\"aaxis\":{\"gridcolor\":\"white\",\"linecolor\":\"white\",\"ticks\":\"\"},\"baxis\":{\"gridcolor\":\"white\",\"linecolor\":\"white\",\"ticks\":\"\"},\"caxis\":{\"gridcolor\":\"white\",\"linecolor\":\"white\",\"ticks\":\"\"}},\"coloraxis\":{\"colorbar\":{\"outlinewidth\":0,\"ticks\":\"\"}},\"colorscale\":{\"sequential\":[[0.0,\"#0d0887\"],[0.1111111111111111,\"#46039f\"],[0.2222222222222222,\"#7201a8\"],[0.3333333333333333,\"#9c179e\"],[0.4444444444444444,\"#bd3786\"],[0.5555555555555556,\"#d8576b\"],[0.6666666666666666,\"#ed7953\"],[0.7777777777777778,\"#fb9f3a\"],[0.8888888888888888,\"#fdca26\"],[1.0,\"#f0f921\"]],\"sequentialminus\":[[0.0,\"#0d0887\"],[0.1111111111111111,\"#46039f\"],[0.2222222222222222,\"#7201a8\"],[0.3333333333333333,\"#9c179e\"],[0.4444444444444444,\"#bd3786\"],[0.5555555555555556,\"#d8576b\"],[0.6666666666666666,\"#ed7953\"],[0.7777777777777778,\"#fb9f3a\"],[0.8888888888888888,\"#fdca26\"],[1.0,\"#f0f921\"]],\"diverging\":[[0,\"#8e0152\"],[0.1,\"#c51b7d\"],[0.2,\"#de77ae\"],[0.3,\"#f1b6da\"],[0.4,\"#fde0ef\"],[0.5,\"#f7f7f7\"],[0.6,\"#e6f5d0\"],[0.7,\"#b8e186\"],[0.8,\"#7fbc41\"],[0.9,\"#4d9221\"],[1,\"#276419\"]]},\"xaxis\":{\"gridcolor\":\"white\",\"linecolor\":\"white\",\"ticks\":\"\",\"title\":{\"standoff\":15},\"zerolinecolor\":\"white\",\"automargin\":true,\"zerolinewidth\":2},\"yaxis\":{\"gridcolor\":\"white\",\"linecolor\":\"white\",\"ticks\":\"\",\"title\":{\"standoff\":15},\"zerolinecolor\":\"white\",\"automargin\":true,\"zerolinewidth\":2},\"scene\":{\"xaxis\":{\"backgroundcolor\":\"#E5ECF6\",\"gridcolor\":\"white\",\"linecolor\":\"white\",\"showbackground\":true,\"ticks\":\"\",\"zerolinecolor\":\"white\",\"gridwidth\":2},\"yaxis\":{\"backgroundcolor\":\"#E5ECF6\",\"gridcolor\":\"white\",\"linecolor\":\"white\",\"showbackground\":true,\"ticks\":\"\",\"zerolinecolor\":\"white\",\"gridwidth\":2},\"zaxis\":{\"backgroundcolor\":\"#E5ECF6\",\"gridcolor\":\"white\",\"linecolor\":\"white\",\"showbackground\":true,\"ticks\":\"\",\"zerolinecolor\":\"white\",\"gridwidth\":2}},\"shapedefaults\":{\"line\":{\"color\":\"#2a3f5f\"}},\"annotationdefaults\":{\"arrowcolor\":\"#2a3f5f\",\"arrowhead\":0,\"arrowwidth\":1},\"geo\":{\"bgcolor\":\"white\",\"landcolor\":\"#E5ECF6\",\"subunitcolor\":\"white\",\"showland\":true,\"showlakes\":true,\"lakecolor\":\"white\"},\"title\":{\"x\":0.05},\"mapbox\":{\"style\":\"light\"}}},\"xaxis\":{\"anchor\":\"y\",\"domain\":[0.0,1.0],\"title\":{\"text\":\"App Count\"}},\"yaxis\":{\"anchor\":\"x\",\"domain\":[0.0,1.0],\"title\":{\"text\":\"App Category Name\"},\"tickfont\":{\"size\":10}},\"coloraxis\":{\"colorbar\":{\"title\":{\"text\":\"Count\"}},\"colorscale\":[[0.0,\"#0d0887\"],[0.1111111111111111,\"#46039f\"],[0.2222222222222222,\"#7201a8\"],[0.3333333333333333,\"#9c179e\"],[0.4444444444444444,\"#bd3786\"],[0.5555555555555556,\"#d8576b\"],[0.6666666666666666,\"#ed7953\"],[0.7777777777777778,\"#fb9f3a\"],[0.8888888888888888,\"#fdca26\"],[1.0,\"#f0f921\"]]},\"legend\":{\"tracegroupgap\":0},\"margin\":{\"t\":60},\"barmode\":\"relative\",\"height\":750,\"width\":900,\"title\":{\"text\":\"Top 25 App Categories\"}},                        {\"responsive\": true}                    ).then(function(){\n",
              "                            \n",
              "var gd = document.getElementById('ce9b5c08-756f-4f1c-8cea-a19f2e667abb');\n",
              "var x = new MutationObserver(function (mutations, observer) {{\n",
              "        var display = window.getComputedStyle(gd).display;\n",
              "        if (!display || display === 'none') {{\n",
              "            console.log([gd, 'removed!']);\n",
              "            Plotly.purge(gd);\n",
              "            observer.disconnect();\n",
              "        }}\n",
              "}});\n",
              "\n",
              "// Listen for the removal of the full notebook cells\n",
              "var notebookContainer = gd.closest('#notebook-container');\n",
              "if (notebookContainer) {{\n",
              "    x.observe(notebookContainer, {childList: true});\n",
              "}}\n",
              "\n",
              "// Listen for the clearing of the current output cell\n",
              "var outputEl = gd.closest('.output');\n",
              "if (outputEl) {{\n",
              "    x.observe(outputEl, {childList: true});\n",
              "}}\n",
              "\n",
              "                        })                };                            </script>        </div>\n",
              "</body>\n",
              "</html>"
            ]
          },
          "metadata": {}
        }
      ],
      "source": [
        "fig=px.bar(Apps_Category.head(25),\n",
        "          y='Category',\n",
        "          x='Count',\n",
        "          width=900, height=750,\n",
        "           color='Count')\n",
        "\n",
        "fig.update_layout(title=\"Top 25 App Categories\",\n",
        "                 xaxis_title=\"App Count\",\n",
        "                 yaxis_title=\"App Category Name\",\n",
        "                 yaxis=dict(tickfont=dict(size=10)))\n",
        "fig.show()"
      ]
    },
    {
      "cell_type": "markdown",
      "metadata": {
        "id": "f4q6i_9itALb"
      },
      "source": [
        "**From the graph it is clear that the `Education` and `Tools` are the leading App categories with the most apps in the google play store**"
      ]
    },
    {
      "cell_type": "markdown",
      "metadata": {
        "id": "4rj8uUmwuy1C"
      },
      "source": [
        "##2. **What are the Top 25 Apps with the most intalls by users?**"
      ]
    },
    {
      "cell_type": "code",
      "execution_count": null,
      "metadata": {
        "colab": {
          "base_uri": "https://localhost:8080/"
        },
        "id": "1FhRiczovt12",
        "outputId": "b818f793-704d-4024-8166-6721ffa5908f"
      },
      "outputs": [
        {
          "output_type": "execute_result",
          "data": {
            "text/plain": [
              "5000000000       12\n",
              "500000000        62\n",
              "1000000000       62\n",
              "100000000       491\n",
              "50000000        784\n",
              "0              1585\n",
              "1              5045\n",
              "5000000        5082\n",
              "5              5120\n",
              "10000000       5210\n",
              "500000        15288\n",
              "50            15511\n",
              "1000000       22066\n",
              "10            22839\n",
              "500           26785\n",
              "50000         28324\n",
              "5000          33171\n",
              "100000        50312\n",
              "100           50602\n",
              "1000          71873\n",
              "10000         75088\n",
              "Name: Installs, dtype: int64"
            ]
          },
          "metadata": {},
          "execution_count": 52
        }
      ],
      "source": [
        "Apps_Installs= Apps_df2.Installs.value_counts().sort_values(ascending=True)\n",
        "Apps_Installs[:25]"
      ]
    },
    {
      "cell_type": "markdown",
      "source": [
        "Category.value_counts().sort_values(ascending=False).reset_index().rename(columns={'Category':'Count','index':'Category'})\n",
        "Apps_Category[:25]"
      ],
      "metadata": {
        "id": "Nlv0WDoLbntH"
      }
    },
    {
      "cell_type": "markdown",
      "source": [
        "5 **Which appication has the 5 star rating (top 25 rated apps)**"
      ],
      "metadata": {
        "id": "wy_KtM1AXcuc"
      }
    },
    {
      "cell_type": "markdown",
      "metadata": {
        "id": "39B5s9-BU51w"
      },
      "source": [
        "###  __3. ASKING AND ANSWERING INTERESTING QUESTIONS__"
      ]
    },
    {
      "cell_type": "markdown",
      "metadata": {
        "id": "170YFmaGaxcj"
      },
      "source": [
        "QUESTIONS \n",
        "\n",
        "1. Which category has more apps in google play store? (TOP 25 CATEGORIES WITH APP COUNTS). show the same in word cloud\n",
        "2. Which category has more insalls ? (Top 25 intalls category)\n",
        "3. In which your more applications released (No: of apps released yearwise)\n",
        "4. Which appication has the 5 star rating (top 25 rated apps)\n",
        "5. Does the no: of installs increases when the app is free? \n",
        "6. Costlier Apps in the play store? (Top 25 costlier Apps)\n",
        "7. Applications with more reviews. (Top 25 reviews apps)\n",
        "8. Which developer has developed most number of apps\n",
        "9. Correlation between review and rating\n",
        "10.Latest trend in App Category\n",
        "\n",
        "\n",
        "\n"
      ]
    },
    {
      "cell_type": "markdown",
      "metadata": {
        "heading_collapsed": true,
        "id": "3buf_mvYU51x"
      },
      "source": [
        "### __4. SUMMARY__"
      ]
    },
    {
      "cell_type": "markdown",
      "metadata": {
        "heading_collapsed": true,
        "id": "zLORts61U51x"
      },
      "source": [
        "### __5. INFERENCES AND CONCLUSION__"
      ]
    },
    {
      "cell_type": "markdown",
      "metadata": {
        "heading_collapsed": true,
        "id": "-mvoHM1lU512"
      },
      "source": [
        "### __6. REFERENCES__"
      ]
    }
  ],
  "metadata": {
    "colab": {
      "collapsed_sections": [
        "zgPdmyh5U51u",
        "3buf_mvYU51x",
        "zLORts61U51x"
      ],
      "provenance": []
    },
    "kernelspec": {
      "display_name": "Python 3 (ipykernel)",
      "language": "python",
      "name": "python3"
    },
    "language_info": {
      "codemirror_mode": {
        "name": "ipython",
        "version": 3
      },
      "file_extension": ".py",
      "mimetype": "text/x-python",
      "name": "python",
      "nbconvert_exporter": "python",
      "pygments_lexer": "ipython3",
      "version": "3.9.6"
    }
  },
  "nbformat": 4,
  "nbformat_minor": 0
}